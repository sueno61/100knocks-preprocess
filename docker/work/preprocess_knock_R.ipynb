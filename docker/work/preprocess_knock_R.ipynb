{
 "cells": [
  {
   "cell_type": "markdown",
   "metadata": {},
   "source": [
    "# データサイエンス100本ノック（構造化データ加工編） - R"
   ]
  },
  {
   "cell_type": "markdown",
   "metadata": {},
   "source": [
    "## はじめに\n",
    "- 初めに以下のセルを実行してください\n",
    "- 必要なライブラリのインポートとデータベース（PostgreSQL）からのデータ読み込みを行います\n",
    "- 利用が想定されるライブラリは以下セルでインポートしています\n",
    "- その他利用したいライブラリがあれば適宜インストールしてください（!マークに続けてOSコマンドを入力することで、任意のubuntu Linuxコマンドが入力可能）\n",
    "- 名前、住所等はダミーデータであり、実在するものではありません"
   ]
  },
  {
   "cell_type": "code",
   "execution_count": 1,
   "metadata": {},
   "outputs": [
    {
     "name": "stderr",
     "output_type": "stream",
     "text": [
      "Loading required package: RPostgreSQL\n",
      "\n",
      "Loading required package: DBI\n",
      "\n",
      "Loading required package: tidyr\n",
      "\n",
      "Loading required package: dplyr\n",
      "\n",
      "\n",
      "Attaching package: ‘dplyr’\n",
      "\n",
      "\n",
      "The following objects are masked from ‘package:stats’:\n",
      "\n",
      "    filter, lag\n",
      "\n",
      "\n",
      "The following objects are masked from ‘package:base’:\n",
      "\n",
      "    intersect, setdiff, setequal, union\n",
      "\n",
      "\n",
      "Loading required package: stringr\n",
      "\n",
      "Loading required package: caret\n",
      "\n",
      "Loading required package: lattice\n",
      "\n",
      "Loading required package: ggplot2\n",
      "\n",
      "Loading required package: lubridate\n",
      "\n",
      "\n",
      "Attaching package: ‘lubridate’\n",
      "\n",
      "\n",
      "The following objects are masked from ‘package:base’:\n",
      "\n",
      "    date, intersect, setdiff, union\n",
      "\n",
      "\n",
      "Loading required package: rsample\n",
      "\n"
     ]
    }
   ],
   "source": [
    "require('RPostgreSQL')\n",
    "require('tidyr')\n",
    "require('dplyr')\n",
    "require('stringr')\n",
    "require('caret')\n",
    "require('lubridate')\n",
    "require('rsample')\n",
    "# require('unbalanced')\n",
    "\n",
    "host <- 'db'\n",
    "port <- Sys.getenv()[\"PG_PORT\"]\n",
    "dbname <- Sys.getenv()[\"PG_DATABASE\"]\n",
    "user <- Sys.getenv()[\"PG_USER\"]\n",
    "password <- Sys.getenv()[\"PG_PASSWORD\"]\n",
    "\n",
    "con <- dbConnect(PostgreSQL(), host=host, port=port, dbname=dbname, user=user, password=password)\n",
    "df_customer <- dbGetQuery(con,\"SELECT * FROM customer\")\n",
    "df_category <- dbGetQuery(con,\"SELECT * FROM category\")\n",
    "df_product <- dbGetQuery(con,\"SELECT * FROM product\")\n",
    "df_receipt <- dbGetQuery(con,\"SELECT * FROM receipt\")\n",
    "df_store <- dbGetQuery(con,\"SELECT * FROM store\")\n",
    "df_geocode <- dbGetQuery(con,\"SELECT * FROM geocode\")"
   ]
  },
  {
   "cell_type": "markdown",
   "metadata": {},
   "source": [
    "# 演習問題"
   ]
  },
  {
   "cell_type": "markdown",
   "metadata": {},
   "source": [
    "---\n",
    "> R-001: レシート明細データフレーム（df_receipt）から全項目の先頭10件を表示し、どのようなデータを保有しているか目視で確認せよ。"
   ]
  },
  {
   "cell_type": "code",
   "execution_count": 2,
   "metadata": {},
   "outputs": [
    {
     "data": {
      "text/html": [
       "<table>\n",
       "<caption>A data.frame: 10 × 9</caption>\n",
       "<thead>\n",
       "\t<tr><th></th><th scope=col>sales_ymd</th><th scope=col>sales_epoch</th><th scope=col>store_cd</th><th scope=col>receipt_no</th><th scope=col>receipt_sub_no</th><th scope=col>customer_id</th><th scope=col>product_cd</th><th scope=col>quantity</th><th scope=col>amount</th></tr>\n",
       "\t<tr><th></th><th scope=col>&lt;int&gt;</th><th scope=col>&lt;int&gt;</th><th scope=col>&lt;chr&gt;</th><th scope=col>&lt;int&gt;</th><th scope=col>&lt;int&gt;</th><th scope=col>&lt;chr&gt;</th><th scope=col>&lt;chr&gt;</th><th scope=col>&lt;int&gt;</th><th scope=col>&lt;int&gt;</th></tr>\n",
       "</thead>\n",
       "<tbody>\n",
       "\t<tr><th scope=row>1</th><td>20181103</td><td>1541203200</td><td>S14006</td><td> 112</td><td>1</td><td>CS006214000001</td><td>P070305012</td><td>1</td><td>158</td></tr>\n",
       "\t<tr><th scope=row>2</th><td>20181118</td><td>1542499200</td><td>S13008</td><td>1132</td><td>2</td><td>CS008415000097</td><td>P070701017</td><td>1</td><td> 81</td></tr>\n",
       "\t<tr><th scope=row>3</th><td>20170712</td><td>1499817600</td><td>S14028</td><td>1102</td><td>1</td><td>CS028414000014</td><td>P060101005</td><td>1</td><td>170</td></tr>\n",
       "\t<tr><th scope=row>4</th><td>20190205</td><td>1549324800</td><td>S14042</td><td>1132</td><td>1</td><td>ZZ000000000000</td><td>P050301001</td><td>1</td><td> 25</td></tr>\n",
       "\t<tr><th scope=row>5</th><td>20180821</td><td>1534809600</td><td>S14025</td><td>1102</td><td>2</td><td>CS025415000050</td><td>P060102007</td><td>1</td><td> 90</td></tr>\n",
       "\t<tr><th scope=row>6</th><td>20190605</td><td>1559692800</td><td>S13003</td><td>1112</td><td>1</td><td>CS003515000195</td><td>P050102002</td><td>1</td><td>138</td></tr>\n",
       "\t<tr><th scope=row>7</th><td>20181205</td><td>1543968000</td><td>S14024</td><td>1102</td><td>2</td><td>CS024514000042</td><td>P080101005</td><td>1</td><td> 30</td></tr>\n",
       "\t<tr><th scope=row>8</th><td>20190922</td><td>1569110400</td><td>S14040</td><td>1102</td><td>1</td><td>CS040415000178</td><td>P070501004</td><td>1</td><td>128</td></tr>\n",
       "\t<tr><th scope=row>9</th><td>20170504</td><td>1493856000</td><td>S13020</td><td>1112</td><td>2</td><td>ZZ000000000000</td><td>P071302010</td><td>1</td><td>770</td></tr>\n",
       "\t<tr><th scope=row>10</th><td>20191010</td><td>1570665600</td><td>S14027</td><td>1102</td><td>1</td><td>CS027514000015</td><td>P071101003</td><td>1</td><td>680</td></tr>\n",
       "</tbody>\n",
       "</table>\n"
      ],
      "text/latex": [
       "A data.frame: 10 × 9\n",
       "\\begin{tabular}{r|lllllllll}\n",
       "  & sales\\_ymd & sales\\_epoch & store\\_cd & receipt\\_no & receipt\\_sub\\_no & customer\\_id & product\\_cd & quantity & amount\\\\\n",
       "  & <int> & <int> & <chr> & <int> & <int> & <chr> & <chr> & <int> & <int>\\\\\n",
       "\\hline\n",
       "\t1 & 20181103 & 1541203200 & S14006 &  112 & 1 & CS006214000001 & P070305012 & 1 & 158\\\\\n",
       "\t2 & 20181118 & 1542499200 & S13008 & 1132 & 2 & CS008415000097 & P070701017 & 1 &  81\\\\\n",
       "\t3 & 20170712 & 1499817600 & S14028 & 1102 & 1 & CS028414000014 & P060101005 & 1 & 170\\\\\n",
       "\t4 & 20190205 & 1549324800 & S14042 & 1132 & 1 & ZZ000000000000 & P050301001 & 1 &  25\\\\\n",
       "\t5 & 20180821 & 1534809600 & S14025 & 1102 & 2 & CS025415000050 & P060102007 & 1 &  90\\\\\n",
       "\t6 & 20190605 & 1559692800 & S13003 & 1112 & 1 & CS003515000195 & P050102002 & 1 & 138\\\\\n",
       "\t7 & 20181205 & 1543968000 & S14024 & 1102 & 2 & CS024514000042 & P080101005 & 1 &  30\\\\\n",
       "\t8 & 20190922 & 1569110400 & S14040 & 1102 & 1 & CS040415000178 & P070501004 & 1 & 128\\\\\n",
       "\t9 & 20170504 & 1493856000 & S13020 & 1112 & 2 & ZZ000000000000 & P071302010 & 1 & 770\\\\\n",
       "\t10 & 20191010 & 1570665600 & S14027 & 1102 & 1 & CS027514000015 & P071101003 & 1 & 680\\\\\n",
       "\\end{tabular}\n"
      ],
      "text/markdown": [
       "\n",
       "A data.frame: 10 × 9\n",
       "\n",
       "| <!--/--> | sales_ymd &lt;int&gt; | sales_epoch &lt;int&gt; | store_cd &lt;chr&gt; | receipt_no &lt;int&gt; | receipt_sub_no &lt;int&gt; | customer_id &lt;chr&gt; | product_cd &lt;chr&gt; | quantity &lt;int&gt; | amount &lt;int&gt; |\n",
       "|---|---|---|---|---|---|---|---|---|---|\n",
       "| 1 | 20181103 | 1541203200 | S14006 |  112 | 1 | CS006214000001 | P070305012 | 1 | 158 |\n",
       "| 2 | 20181118 | 1542499200 | S13008 | 1132 | 2 | CS008415000097 | P070701017 | 1 |  81 |\n",
       "| 3 | 20170712 | 1499817600 | S14028 | 1102 | 1 | CS028414000014 | P060101005 | 1 | 170 |\n",
       "| 4 | 20190205 | 1549324800 | S14042 | 1132 | 1 | ZZ000000000000 | P050301001 | 1 |  25 |\n",
       "| 5 | 20180821 | 1534809600 | S14025 | 1102 | 2 | CS025415000050 | P060102007 | 1 |  90 |\n",
       "| 6 | 20190605 | 1559692800 | S13003 | 1112 | 1 | CS003515000195 | P050102002 | 1 | 138 |\n",
       "| 7 | 20181205 | 1543968000 | S14024 | 1102 | 2 | CS024514000042 | P080101005 | 1 |  30 |\n",
       "| 8 | 20190922 | 1569110400 | S14040 | 1102 | 1 | CS040415000178 | P070501004 | 1 | 128 |\n",
       "| 9 | 20170504 | 1493856000 | S13020 | 1112 | 2 | ZZ000000000000 | P071302010 | 1 | 770 |\n",
       "| 10 | 20191010 | 1570665600 | S14027 | 1102 | 1 | CS027514000015 | P071101003 | 1 | 680 |\n",
       "\n"
      ],
      "text/plain": [
       "   sales_ymd sales_epoch store_cd receipt_no receipt_sub_no customer_id   \n",
       "1  20181103  1541203200  S14006    112       1              CS006214000001\n",
       "2  20181118  1542499200  S13008   1132       2              CS008415000097\n",
       "3  20170712  1499817600  S14028   1102       1              CS028414000014\n",
       "4  20190205  1549324800  S14042   1132       1              ZZ000000000000\n",
       "5  20180821  1534809600  S14025   1102       2              CS025415000050\n",
       "6  20190605  1559692800  S13003   1112       1              CS003515000195\n",
       "7  20181205  1543968000  S14024   1102       2              CS024514000042\n",
       "8  20190922  1569110400  S14040   1102       1              CS040415000178\n",
       "9  20170504  1493856000  S13020   1112       2              ZZ000000000000\n",
       "10 20191010  1570665600  S14027   1102       1              CS027514000015\n",
       "   product_cd quantity amount\n",
       "1  P070305012 1        158   \n",
       "2  P070701017 1         81   \n",
       "3  P060101005 1        170   \n",
       "4  P050301001 1         25   \n",
       "5  P060102007 1         90   \n",
       "6  P050102002 1        138   \n",
       "7  P080101005 1         30   \n",
       "8  P070501004 1        128   \n",
       "9  P071302010 1        770   \n",
       "10 P071101003 1        680   "
      ]
     },
     "metadata": {},
     "output_type": "display_data"
    }
   ],
   "source": [
    "head(df_receipt, n=10)"
   ]
  },
  {
   "cell_type": "markdown",
   "metadata": {},
   "source": [
    "---\n",
    "> R-002: レシート明細データフレーム（df_receipt）から売上日（sales_ymd）、顧客ID（customer_id）、商品コード（product_cd）、売上金額（amount）の順に列を指定し、10件表示させよ。"
   ]
  },
  {
   "cell_type": "code",
   "execution_count": null,
   "metadata": {},
   "outputs": [],
   "source": []
  },
  {
   "cell_type": "markdown",
   "metadata": {},
   "source": [
    "---\n",
    "> R-003: レシート明細データフレーム（df_receipt）から売上日（sales_ymd）、顧客ID（customer_id）、商品コード（product_cd）、売上金額（amount）の順に列を指定し、10件表示させよ。ただし、sales_ymdはsales_dateに項目名を変更しながら抽出すること。"
   ]
  },
  {
   "cell_type": "code",
   "execution_count": 4,
   "metadata": {},
   "outputs": [
    {
     "data": {
      "text/html": [
       "<table>\n",
       "<caption>A data.frame: 10 × 4</caption>\n",
       "<thead>\n",
       "\t<tr><th></th><th scope=col>sales_date</th><th scope=col>customer_id</th><th scope=col>product_cd</th><th scope=col>amount</th></tr>\n",
       "\t<tr><th></th><th scope=col>&lt;int&gt;</th><th scope=col>&lt;chr&gt;</th><th scope=col>&lt;chr&gt;</th><th scope=col>&lt;int&gt;</th></tr>\n",
       "</thead>\n",
       "<tbody>\n",
       "\t<tr><th scope=row>1</th><td>20181103</td><td>CS006214000001</td><td>P070305012</td><td>158</td></tr>\n",
       "\t<tr><th scope=row>2</th><td>20181118</td><td>CS008415000097</td><td>P070701017</td><td> 81</td></tr>\n",
       "\t<tr><th scope=row>3</th><td>20170712</td><td>CS028414000014</td><td>P060101005</td><td>170</td></tr>\n",
       "\t<tr><th scope=row>4</th><td>20190205</td><td>ZZ000000000000</td><td>P050301001</td><td> 25</td></tr>\n",
       "\t<tr><th scope=row>5</th><td>20180821</td><td>CS025415000050</td><td>P060102007</td><td> 90</td></tr>\n",
       "\t<tr><th scope=row>6</th><td>20190605</td><td>CS003515000195</td><td>P050102002</td><td>138</td></tr>\n",
       "\t<tr><th scope=row>7</th><td>20181205</td><td>CS024514000042</td><td>P080101005</td><td> 30</td></tr>\n",
       "\t<tr><th scope=row>8</th><td>20190922</td><td>CS040415000178</td><td>P070501004</td><td>128</td></tr>\n",
       "\t<tr><th scope=row>9</th><td>20170504</td><td>ZZ000000000000</td><td>P071302010</td><td>770</td></tr>\n",
       "\t<tr><th scope=row>10</th><td>20191010</td><td>CS027514000015</td><td>P071101003</td><td>680</td></tr>\n",
       "</tbody>\n",
       "</table>\n"
      ],
      "text/latex": [
       "A data.frame: 10 × 4\n",
       "\\begin{tabular}{r|llll}\n",
       "  & sales\\_date & customer\\_id & product\\_cd & amount\\\\\n",
       "  & <int> & <chr> & <chr> & <int>\\\\\n",
       "\\hline\n",
       "\t1 & 20181103 & CS006214000001 & P070305012 & 158\\\\\n",
       "\t2 & 20181118 & CS008415000097 & P070701017 &  81\\\\\n",
       "\t3 & 20170712 & CS028414000014 & P060101005 & 170\\\\\n",
       "\t4 & 20190205 & ZZ000000000000 & P050301001 &  25\\\\\n",
       "\t5 & 20180821 & CS025415000050 & P060102007 &  90\\\\\n",
       "\t6 & 20190605 & CS003515000195 & P050102002 & 138\\\\\n",
       "\t7 & 20181205 & CS024514000042 & P080101005 &  30\\\\\n",
       "\t8 & 20190922 & CS040415000178 & P070501004 & 128\\\\\n",
       "\t9 & 20170504 & ZZ000000000000 & P071302010 & 770\\\\\n",
       "\t10 & 20191010 & CS027514000015 & P071101003 & 680\\\\\n",
       "\\end{tabular}\n"
      ],
      "text/markdown": [
       "\n",
       "A data.frame: 10 × 4\n",
       "\n",
       "| <!--/--> | sales_date &lt;int&gt; | customer_id &lt;chr&gt; | product_cd &lt;chr&gt; | amount &lt;int&gt; |\n",
       "|---|---|---|---|---|\n",
       "| 1 | 20181103 | CS006214000001 | P070305012 | 158 |\n",
       "| 2 | 20181118 | CS008415000097 | P070701017 |  81 |\n",
       "| 3 | 20170712 | CS028414000014 | P060101005 | 170 |\n",
       "| 4 | 20190205 | ZZ000000000000 | P050301001 |  25 |\n",
       "| 5 | 20180821 | CS025415000050 | P060102007 |  90 |\n",
       "| 6 | 20190605 | CS003515000195 | P050102002 | 138 |\n",
       "| 7 | 20181205 | CS024514000042 | P080101005 |  30 |\n",
       "| 8 | 20190922 | CS040415000178 | P070501004 | 128 |\n",
       "| 9 | 20170504 | ZZ000000000000 | P071302010 | 770 |\n",
       "| 10 | 20191010 | CS027514000015 | P071101003 | 680 |\n",
       "\n"
      ],
      "text/plain": [
       "   sales_date customer_id    product_cd amount\n",
       "1  20181103   CS006214000001 P070305012 158   \n",
       "2  20181118   CS008415000097 P070701017  81   \n",
       "3  20170712   CS028414000014 P060101005 170   \n",
       "4  20190205   ZZ000000000000 P050301001  25   \n",
       "5  20180821   CS025415000050 P060102007  90   \n",
       "6  20190605   CS003515000195 P050102002 138   \n",
       "7  20181205   CS024514000042 P080101005  30   \n",
       "8  20190922   CS040415000178 P070501004 128   \n",
       "9  20170504   ZZ000000000000 P071302010 770   \n",
       "10 20191010   CS027514000015 P071101003 680   "
      ]
     },
     "metadata": {},
     "output_type": "display_data"
    }
   ],
   "source": [
    "head(rename(df_receipt[c('sales_ymd','customer_id','product_cd','amount')], sales_date=sales_ymd), n=10)"
   ]
  },
  {
   "cell_type": "markdown",
   "metadata": {},
   "source": [
    "---\n",
    "> R-004: レシート明細データフレーム（df_receipt）から売上日（sales_ymd）、顧客ID（customer_id）、商品コード（product_cd）、売上金額（amount）の順に列を指定し、以下の条件を満たすデータを抽出せよ。\n",
    "> - 顧客ID（customer_id）が\"CS018205000001\""
   ]
  },
  {
   "cell_type": "code",
   "execution_count": 5,
   "metadata": {},
   "outputs": [
    {
     "data": {
      "text/html": [
       "<table>\n",
       "<caption>A data.frame: 12 × 4</caption>\n",
       "<thead>\n",
       "\t<tr><th scope=col>sales_ymd</th><th scope=col>customer_id</th><th scope=col>product_cd</th><th scope=col>amount</th></tr>\n",
       "\t<tr><th scope=col>&lt;int&gt;</th><th scope=col>&lt;chr&gt;</th><th scope=col>&lt;chr&gt;</th><th scope=col>&lt;int&gt;</th></tr>\n",
       "</thead>\n",
       "<tbody>\n",
       "\t<tr><td>20180911</td><td>CS018205000001</td><td>P071401012</td><td>2200</td></tr>\n",
       "\t<tr><td>20180414</td><td>CS018205000001</td><td>P060104007</td><td> 600</td></tr>\n",
       "\t<tr><td>20170614</td><td>CS018205000001</td><td>P050206001</td><td> 990</td></tr>\n",
       "\t<tr><td>20170614</td><td>CS018205000001</td><td>P060702015</td><td> 108</td></tr>\n",
       "\t<tr><td>20190216</td><td>CS018205000001</td><td>P071005024</td><td> 102</td></tr>\n",
       "\t<tr><td>20180414</td><td>CS018205000001</td><td>P071101002</td><td> 278</td></tr>\n",
       "\t<tr><td>20190226</td><td>CS018205000001</td><td>P070902035</td><td> 168</td></tr>\n",
       "\t<tr><td>20190924</td><td>CS018205000001</td><td>P060805001</td><td> 495</td></tr>\n",
       "\t<tr><td>20190226</td><td>CS018205000001</td><td>P071401020</td><td>2200</td></tr>\n",
       "\t<tr><td>20180911</td><td>CS018205000001</td><td>P071401005</td><td>1100</td></tr>\n",
       "\t<tr><td>20190216</td><td>CS018205000001</td><td>P040101002</td><td> 218</td></tr>\n",
       "\t<tr><td>20190924</td><td>CS018205000001</td><td>P091503001</td><td> 280</td></tr>\n",
       "</tbody>\n",
       "</table>\n"
      ],
      "text/latex": [
       "A data.frame: 12 × 4\n",
       "\\begin{tabular}{llll}\n",
       " sales\\_ymd & customer\\_id & product\\_cd & amount\\\\\n",
       " <int> & <chr> & <chr> & <int>\\\\\n",
       "\\hline\n",
       "\t 20180911 & CS018205000001 & P071401012 & 2200\\\\\n",
       "\t 20180414 & CS018205000001 & P060104007 &  600\\\\\n",
       "\t 20170614 & CS018205000001 & P050206001 &  990\\\\\n",
       "\t 20170614 & CS018205000001 & P060702015 &  108\\\\\n",
       "\t 20190216 & CS018205000001 & P071005024 &  102\\\\\n",
       "\t 20180414 & CS018205000001 & P071101002 &  278\\\\\n",
       "\t 20190226 & CS018205000001 & P070902035 &  168\\\\\n",
       "\t 20190924 & CS018205000001 & P060805001 &  495\\\\\n",
       "\t 20190226 & CS018205000001 & P071401020 & 2200\\\\\n",
       "\t 20180911 & CS018205000001 & P071401005 & 1100\\\\\n",
       "\t 20190216 & CS018205000001 & P040101002 &  218\\\\\n",
       "\t 20190924 & CS018205000001 & P091503001 &  280\\\\\n",
       "\\end{tabular}\n"
      ],
      "text/markdown": [
       "\n",
       "A data.frame: 12 × 4\n",
       "\n",
       "| sales_ymd &lt;int&gt; | customer_id &lt;chr&gt; | product_cd &lt;chr&gt; | amount &lt;int&gt; |\n",
       "|---|---|---|---|\n",
       "| 20180911 | CS018205000001 | P071401012 | 2200 |\n",
       "| 20180414 | CS018205000001 | P060104007 |  600 |\n",
       "| 20170614 | CS018205000001 | P050206001 |  990 |\n",
       "| 20170614 | CS018205000001 | P060702015 |  108 |\n",
       "| 20190216 | CS018205000001 | P071005024 |  102 |\n",
       "| 20180414 | CS018205000001 | P071101002 |  278 |\n",
       "| 20190226 | CS018205000001 | P070902035 |  168 |\n",
       "| 20190924 | CS018205000001 | P060805001 |  495 |\n",
       "| 20190226 | CS018205000001 | P071401020 | 2200 |\n",
       "| 20180911 | CS018205000001 | P071401005 | 1100 |\n",
       "| 20190216 | CS018205000001 | P040101002 |  218 |\n",
       "| 20190924 | CS018205000001 | P091503001 |  280 |\n",
       "\n"
      ],
      "text/plain": [
       "   sales_ymd customer_id    product_cd amount\n",
       "1  20180911  CS018205000001 P071401012 2200  \n",
       "2  20180414  CS018205000001 P060104007  600  \n",
       "3  20170614  CS018205000001 P050206001  990  \n",
       "4  20170614  CS018205000001 P060702015  108  \n",
       "5  20190216  CS018205000001 P071005024  102  \n",
       "6  20180414  CS018205000001 P071101002  278  \n",
       "7  20190226  CS018205000001 P070902035  168  \n",
       "8  20190924  CS018205000001 P060805001  495  \n",
       "9  20190226  CS018205000001 P071401020 2200  \n",
       "10 20180911  CS018205000001 P071401005 1100  \n",
       "11 20190216  CS018205000001 P040101002  218  \n",
       "12 20190924  CS018205000001 P091503001  280  "
      ]
     },
     "metadata": {},
     "output_type": "display_data"
    }
   ],
   "source": [
    "df_receipt[c('sales_ymd','customer_id','product_cd','amount')] %>%\n",
    "    filter(customer_id==\"CS018205000001\")"
   ]
  },
  {
   "cell_type": "markdown",
   "metadata": {},
   "source": [
    "---\n",
    "> R-005: レシート明細データフレーム（df_receipt）から売上日（sales_ymd）、顧客ID（customer_id）、商品コード（product_cd）、売上金額（amount）の順に列を指定し、以下の条件を満たすデータを抽出せよ。\n",
    "> - 顧客ID（customer_id）が\"CS018205000001\"\n",
    "> - 売上金額（amount）が1,000以上"
   ]
  },
  {
   "cell_type": "code",
   "execution_count": 6,
   "metadata": {},
   "outputs": [
    {
     "data": {
      "text/html": [
       "<table>\n",
       "<caption>A data.frame: 3 × 4</caption>\n",
       "<thead>\n",
       "\t<tr><th scope=col>sales_ymd</th><th scope=col>customer_id</th><th scope=col>product_cd</th><th scope=col>amount</th></tr>\n",
       "\t<tr><th scope=col>&lt;int&gt;</th><th scope=col>&lt;chr&gt;</th><th scope=col>&lt;chr&gt;</th><th scope=col>&lt;int&gt;</th></tr>\n",
       "</thead>\n",
       "<tbody>\n",
       "\t<tr><td>20180911</td><td>CS018205000001</td><td>P071401012</td><td>2200</td></tr>\n",
       "\t<tr><td>20190226</td><td>CS018205000001</td><td>P071401020</td><td>2200</td></tr>\n",
       "\t<tr><td>20180911</td><td>CS018205000001</td><td>P071401005</td><td>1100</td></tr>\n",
       "</tbody>\n",
       "</table>\n"
      ],
      "text/latex": [
       "A data.frame: 3 × 4\n",
       "\\begin{tabular}{llll}\n",
       " sales\\_ymd & customer\\_id & product\\_cd & amount\\\\\n",
       " <int> & <chr> & <chr> & <int>\\\\\n",
       "\\hline\n",
       "\t 20180911 & CS018205000001 & P071401012 & 2200\\\\\n",
       "\t 20190226 & CS018205000001 & P071401020 & 2200\\\\\n",
       "\t 20180911 & CS018205000001 & P071401005 & 1100\\\\\n",
       "\\end{tabular}\n"
      ],
      "text/markdown": [
       "\n",
       "A data.frame: 3 × 4\n",
       "\n",
       "| sales_ymd &lt;int&gt; | customer_id &lt;chr&gt; | product_cd &lt;chr&gt; | amount &lt;int&gt; |\n",
       "|---|---|---|---|\n",
       "| 20180911 | CS018205000001 | P071401012 | 2200 |\n",
       "| 20190226 | CS018205000001 | P071401020 | 2200 |\n",
       "| 20180911 | CS018205000001 | P071401005 | 1100 |\n",
       "\n"
      ],
      "text/plain": [
       "  sales_ymd customer_id    product_cd amount\n",
       "1 20180911  CS018205000001 P071401012 2200  \n",
       "2 20190226  CS018205000001 P071401020 2200  \n",
       "3 20180911  CS018205000001 P071401005 1100  "
      ]
     },
     "metadata": {},
     "output_type": "display_data"
    }
   ],
   "source": [
    "df_receipt[c('sales_ymd','customer_id','product_cd','amount')] %>%\n",
    "    filter(customer_id==\"CS018205000001\" & amount>=1000)"
   ]
  },
  {
   "cell_type": "markdown",
   "metadata": {},
   "source": [
    "---\n",
    "> R-006: レシート明細データフレーム（receipt）から売上日（sales_ymd）、顧客ID（customer_id）、商品コード（product_cd）、売上数量（quantity）、売上金額（amount）の順に列を指定し、以下の条件を満たすデータを抽出せよ。\n",
    "> - 顧客ID（customer_id）が\"CS018205000001\"\n",
    "> - 売上金額（amount）が1,000以上または売上数量（quantity）が5以上"
   ]
  },
  {
   "cell_type": "code",
   "execution_count": 8,
   "metadata": {},
   "outputs": [
    {
     "data": {
      "text/html": [
       "<table>\n",
       "<caption>A data.frame: 5 × 5</caption>\n",
       "<thead>\n",
       "\t<tr><th scope=col>sales_ymd</th><th scope=col>customer_id</th><th scope=col>product_cd</th><th scope=col>quantity</th><th scope=col>amount</th></tr>\n",
       "\t<tr><th scope=col>&lt;int&gt;</th><th scope=col>&lt;chr&gt;</th><th scope=col>&lt;chr&gt;</th><th scope=col>&lt;int&gt;</th><th scope=col>&lt;int&gt;</th></tr>\n",
       "</thead>\n",
       "<tbody>\n",
       "\t<tr><td>20180911</td><td>CS018205000001</td><td>P071401012</td><td>1</td><td>2200</td></tr>\n",
       "\t<tr><td>20180414</td><td>CS018205000001</td><td>P060104007</td><td>6</td><td> 600</td></tr>\n",
       "\t<tr><td>20170614</td><td>CS018205000001</td><td>P050206001</td><td>5</td><td> 990</td></tr>\n",
       "\t<tr><td>20190226</td><td>CS018205000001</td><td>P071401020</td><td>1</td><td>2200</td></tr>\n",
       "\t<tr><td>20180911</td><td>CS018205000001</td><td>P071401005</td><td>1</td><td>1100</td></tr>\n",
       "</tbody>\n",
       "</table>\n"
      ],
      "text/latex": [
       "A data.frame: 5 × 5\n",
       "\\begin{tabular}{lllll}\n",
       " sales\\_ymd & customer\\_id & product\\_cd & quantity & amount\\\\\n",
       " <int> & <chr> & <chr> & <int> & <int>\\\\\n",
       "\\hline\n",
       "\t 20180911 & CS018205000001 & P071401012 & 1 & 2200\\\\\n",
       "\t 20180414 & CS018205000001 & P060104007 & 6 &  600\\\\\n",
       "\t 20170614 & CS018205000001 & P050206001 & 5 &  990\\\\\n",
       "\t 20190226 & CS018205000001 & P071401020 & 1 & 2200\\\\\n",
       "\t 20180911 & CS018205000001 & P071401005 & 1 & 1100\\\\\n",
       "\\end{tabular}\n"
      ],
      "text/markdown": [
       "\n",
       "A data.frame: 5 × 5\n",
       "\n",
       "| sales_ymd &lt;int&gt; | customer_id &lt;chr&gt; | product_cd &lt;chr&gt; | quantity &lt;int&gt; | amount &lt;int&gt; |\n",
       "|---|---|---|---|---|\n",
       "| 20180911 | CS018205000001 | P071401012 | 1 | 2200 |\n",
       "| 20180414 | CS018205000001 | P060104007 | 6 |  600 |\n",
       "| 20170614 | CS018205000001 | P050206001 | 5 |  990 |\n",
       "| 20190226 | CS018205000001 | P071401020 | 1 | 2200 |\n",
       "| 20180911 | CS018205000001 | P071401005 | 1 | 1100 |\n",
       "\n"
      ],
      "text/plain": [
       "  sales_ymd customer_id    product_cd quantity amount\n",
       "1 20180911  CS018205000001 P071401012 1        2200  \n",
       "2 20180414  CS018205000001 P060104007 6         600  \n",
       "3 20170614  CS018205000001 P050206001 5         990  \n",
       "4 20190226  CS018205000001 P071401020 1        2200  \n",
       "5 20180911  CS018205000001 P071401005 1        1100  "
      ]
     },
     "metadata": {},
     "output_type": "display_data"
    }
   ],
   "source": [
    "df_receipt[c('sales_ymd','customer_id','product_cd','quantity','amount')] %>%\n",
    "    filter(customer_id==\"CS018205000001\" & (amount>=1000 | quantity>=5))"
   ]
  },
  {
   "cell_type": "markdown",
   "metadata": {},
   "source": [
    "---\n",
    "> R-007: レシート明細のデータフレーム（df_receipt）から売上日（sales_ymd）、顧客ID（customer_id）、商品コード（product_cd）、売上金額（amount）の順に列を指定し、以下の条件を満たすデータを抽出せよ。\n",
    "> - 顧客ID（customer_id）が\"CS018205000001\"\n",
    "> - 売上金額（amount）が1,000以上2,000以下"
   ]
  },
  {
   "cell_type": "code",
   "execution_count": null,
   "metadata": {},
   "outputs": [],
   "source": []
  },
  {
   "cell_type": "markdown",
   "metadata": {},
   "source": [
    "---\n",
    "> R-008: レシート明細データフレーム（df_receipt）から売上日（sales_ymd）、顧客ID（customer_id）、商品コード（product_cd）、売上金額（amount）の順に列を指定し、以下の条件を満たすデータを抽出せよ。\n",
    "> - 顧客ID（customer_id）が\"CS018205000001\"\n",
    "> - 商品コード（product_cd）が\"P071401019\"以外"
   ]
  },
  {
   "cell_type": "code",
   "execution_count": null,
   "metadata": {},
   "outputs": [],
   "source": []
  },
  {
   "cell_type": "markdown",
   "metadata": {},
   "source": [
    "---\n",
    "> R-009: 以下の処理において、出力結果を変えずにORをANDに書き換えよ。\n",
    "\n",
    "`\n",
    "df_store %>%\n",
    "    filter(!(prefecture_cd == \"13\" | floor_area > 900))\n",
    "`"
   ]
  },
  {
   "cell_type": "code",
   "execution_count": 3,
   "metadata": {},
   "outputs": [
    {
     "data": {
      "text/html": [
       "<table>\n",
       "<caption>A data.frame: 3 × 10</caption>\n",
       "<thead>\n",
       "\t<tr><th scope=col>store_cd</th><th scope=col>store_name</th><th scope=col>prefecture_cd</th><th scope=col>prefecture</th><th scope=col>address</th><th scope=col>address_kana</th><th scope=col>tel_no</th><th scope=col>longitude</th><th scope=col>latitude</th><th scope=col>floor_area</th></tr>\n",
       "\t<tr><th scope=col>&lt;chr&gt;</th><th scope=col>&lt;chr&gt;</th><th scope=col>&lt;chr&gt;</th><th scope=col>&lt;chr&gt;</th><th scope=col>&lt;chr&gt;</th><th scope=col>&lt;chr&gt;</th><th scope=col>&lt;chr&gt;</th><th scope=col>&lt;dbl&gt;</th><th scope=col>&lt;dbl&gt;</th><th scope=col>&lt;dbl&gt;</th></tr>\n",
       "</thead>\n",
       "<tbody>\n",
       "\t<tr><td>S14046</td><td>北山田店  </td><td>14</td><td>神奈川県</td><td>神奈川県横浜市都筑区北山田一丁目  </td><td>カナガワケンヨコハマシツヅキクキタヤマタイッチョウメ        </td><td>045-123-4049</td><td>139.5916</td><td>35.56189</td><td>831</td></tr>\n",
       "\t<tr><td>S14011</td><td>日吉本町店</td><td>14</td><td>神奈川県</td><td>神奈川県横浜市港北区日吉本町四丁目</td><td>カナガワケンヨコハマシコウホククヒヨシホンチョウヨンチョウメ</td><td>045-123-4033</td><td>139.6316</td><td>35.54655</td><td>890</td></tr>\n",
       "\t<tr><td>S12013</td><td>習志野店  </td><td>12</td><td>千葉県  </td><td>千葉県習志野市芝園一丁目          </td><td>チバケンナラシノシシバゾノイッチョウメ                      </td><td>047-123-4002</td><td>140.0220</td><td>35.66122</td><td>808</td></tr>\n",
       "</tbody>\n",
       "</table>\n"
      ],
      "text/latex": [
       "A data.frame: 3 × 10\n",
       "\\begin{tabular}{llllllllll}\n",
       " store\\_cd & store\\_name & prefecture\\_cd & prefecture & address & address\\_kana & tel\\_no & longitude & latitude & floor\\_area\\\\\n",
       " <chr> & <chr> & <chr> & <chr> & <chr> & <chr> & <chr> & <dbl> & <dbl> & <dbl>\\\\\n",
       "\\hline\n",
       "\t S14046 & 北山田店   & 14 & 神奈川県 & 神奈川県横浜市都筑区北山田一丁目   & カナガワケンヨコハマシツヅキクキタヤマタイッチョウメ         & 045-123-4049 & 139.5916 & 35.56189 & 831\\\\\n",
       "\t S14011 & 日吉本町店 & 14 & 神奈川県 & 神奈川県横浜市港北区日吉本町四丁目 & カナガワケンヨコハマシコウホククヒヨシホンチョウヨンチョウメ & 045-123-4033 & 139.6316 & 35.54655 & 890\\\\\n",
       "\t S12013 & 習志野店   & 12 & 千葉県   & 千葉県習志野市芝園一丁目           & チバケンナラシノシシバゾノイッチョウメ                       & 047-123-4002 & 140.0220 & 35.66122 & 808\\\\\n",
       "\\end{tabular}\n"
      ],
      "text/markdown": [
       "\n",
       "A data.frame: 3 × 10\n",
       "\n",
       "| store_cd &lt;chr&gt; | store_name &lt;chr&gt; | prefecture_cd &lt;chr&gt; | prefecture &lt;chr&gt; | address &lt;chr&gt; | address_kana &lt;chr&gt; | tel_no &lt;chr&gt; | longitude &lt;dbl&gt; | latitude &lt;dbl&gt; | floor_area &lt;dbl&gt; |\n",
       "|---|---|---|---|---|---|---|---|---|---|\n",
       "| S14046 | 北山田店   | 14 | 神奈川県 | 神奈川県横浜市都筑区北山田一丁目   | カナガワケンヨコハマシツヅキクキタヤマタイッチョウメ         | 045-123-4049 | 139.5916 | 35.56189 | 831 |\n",
       "| S14011 | 日吉本町店 | 14 | 神奈川県 | 神奈川県横浜市港北区日吉本町四丁目 | カナガワケンヨコハマシコウホククヒヨシホンチョウヨンチョウメ | 045-123-4033 | 139.6316 | 35.54655 | 890 |\n",
       "| S12013 | 習志野店   | 12 | 千葉県   | 千葉県習志野市芝園一丁目           | チバケンナラシノシシバゾノイッチョウメ                       | 047-123-4002 | 140.0220 | 35.66122 | 808 |\n",
       "\n"
      ],
      "text/plain": [
       "  store_cd store_name prefecture_cd prefecture\n",
       "1 S14046   北山田店   14            神奈川県  \n",
       "2 S14011   日吉本町店 14            神奈川県  \n",
       "3 S12013   習志野店   12            千葉県    \n",
       "  address                           \n",
       "1 神奈川県横浜市都筑区北山田一丁目  \n",
       "2 神奈川県横浜市港北区日吉本町四丁目\n",
       "3 千葉県習志野市芝園一丁目          \n",
       "  address_kana                                                 tel_no      \n",
       "1 カナガワケンヨコハマシツヅキクキタヤマタイッチョウメ         045-123-4049\n",
       "2 カナガワケンヨコハマシコウホククヒヨシホンチョウヨンチョウメ 045-123-4033\n",
       "3 チバケンナラシノシシバゾノイッチョウメ                       047-123-4002\n",
       "  longitude latitude floor_area\n",
       "1 139.5916  35.56189 831       \n",
       "2 139.6316  35.54655 890       \n",
       "3 140.0220  35.66122 808       "
      ]
     },
     "metadata": {},
     "output_type": "display_data"
    }
   ],
   "source": [
    "df_store %>%\n",
    "    filter((prefecture_cd != \"13\" & floor_area <= 900))"
   ]
  },
  {
   "cell_type": "markdown",
   "metadata": {},
   "source": [
    "---\n",
    "> R-010: 店舗データフレーム（df_store）から、店舗コード（store_cd）が\"S14\"で始まるものだけ全項目抽出し、10件だけ表示せよ。"
   ]
  },
  {
   "cell_type": "code",
   "execution_count": 11,
   "metadata": {},
   "outputs": [
    {
     "data": {
      "text/html": [
       "<table>\n",
       "<caption>A data.frame: 5 × 10</caption>\n",
       "<thead>\n",
       "\t<tr><th></th><th scope=col>store_cd</th><th scope=col>store_name</th><th scope=col>prefecture_cd</th><th scope=col>prefecture</th><th scope=col>address</th><th scope=col>address_kana</th><th scope=col>tel_no</th><th scope=col>longitude</th><th scope=col>latitude</th><th scope=col>floor_area</th></tr>\n",
       "\t<tr><th></th><th scope=col>&lt;chr&gt;</th><th scope=col>&lt;chr&gt;</th><th scope=col>&lt;chr&gt;</th><th scope=col>&lt;chr&gt;</th><th scope=col>&lt;chr&gt;</th><th scope=col>&lt;chr&gt;</th><th scope=col>&lt;chr&gt;</th><th scope=col>&lt;dbl&gt;</th><th scope=col>&lt;dbl&gt;</th><th scope=col>&lt;dbl&gt;</th></tr>\n",
       "</thead>\n",
       "<tbody>\n",
       "\t<tr><th scope=row>1</th><td>S14010</td><td>菊名店      </td><td>14</td><td>神奈川県</td><td>神奈川県横浜市港北区菊名一丁目        </td><td>カナガワケンヨコハマシコウホククキクナイッチョウメ        </td><td>045-123-4032</td><td>139.6326</td><td>35.50049</td><td>1732</td></tr>\n",
       "\t<tr><th scope=row>2</th><td>S14033</td><td>阿久和店    </td><td>14</td><td>神奈川県</td><td>神奈川県横浜市瀬谷区阿久和西一丁目    </td><td>カナガワケンヨコハマシセヤクアクワニシイッチョウメ        </td><td>045-123-4043</td><td>139.4961</td><td>35.45918</td><td>1495</td></tr>\n",
       "\t<tr><th scope=row>3</th><td>S14036</td><td>相模原中央店</td><td>14</td><td>神奈川県</td><td>神奈川県相模原市中央二丁目            </td><td>カナガワケンサガミハラシチュウオウニチョウメ              </td><td>042-123-4045</td><td>139.3716</td><td>35.57327</td><td>1679</td></tr>\n",
       "\t<tr><th scope=row>4</th><td>S14040</td><td>長津田店    </td><td>14</td><td>神奈川県</td><td>神奈川県横浜市緑区長津田みなみ台五丁目</td><td>カナガワケンヨコハマシミドリクナガツタミナミダイゴチョウメ</td><td>045-123-4046</td><td>139.4994</td><td>35.52398</td><td>1548</td></tr>\n",
       "\t<tr><th scope=row>5</th><td>S14050</td><td>阿久和西店  </td><td>14</td><td>神奈川県</td><td>神奈川県横浜市瀬谷区阿久和西一丁目    </td><td>カナガワケンヨコハマシセヤクアクワニシイッチョウメ        </td><td>045-123-4053</td><td>139.4961</td><td>35.45918</td><td>1830</td></tr>\n",
       "</tbody>\n",
       "</table>\n"
      ],
      "text/latex": [
       "A data.frame: 5 × 10\n",
       "\\begin{tabular}{r|llllllllll}\n",
       "  & store\\_cd & store\\_name & prefecture\\_cd & prefecture & address & address\\_kana & tel\\_no & longitude & latitude & floor\\_area\\\\\n",
       "  & <chr> & <chr> & <chr> & <chr> & <chr> & <chr> & <chr> & <dbl> & <dbl> & <dbl>\\\\\n",
       "\\hline\n",
       "\t1 & S14010 & 菊名店       & 14 & 神奈川県 & 神奈川県横浜市港北区菊名一丁目         & カナガワケンヨコハマシコウホククキクナイッチョウメ         & 045-123-4032 & 139.6326 & 35.50049 & 1732\\\\\n",
       "\t2 & S14033 & 阿久和店     & 14 & 神奈川県 & 神奈川県横浜市瀬谷区阿久和西一丁目     & カナガワケンヨコハマシセヤクアクワニシイッチョウメ         & 045-123-4043 & 139.4961 & 35.45918 & 1495\\\\\n",
       "\t3 & S14036 & 相模原中央店 & 14 & 神奈川県 & 神奈川県相模原市中央二丁目             & カナガワケンサガミハラシチュウオウニチョウメ               & 042-123-4045 & 139.3716 & 35.57327 & 1679\\\\\n",
       "\t4 & S14040 & 長津田店     & 14 & 神奈川県 & 神奈川県横浜市緑区長津田みなみ台五丁目 & カナガワケンヨコハマシミドリクナガツタミナミダイゴチョウメ & 045-123-4046 & 139.4994 & 35.52398 & 1548\\\\\n",
       "\t5 & S14050 & 阿久和西店   & 14 & 神奈川県 & 神奈川県横浜市瀬谷区阿久和西一丁目     & カナガワケンヨコハマシセヤクアクワニシイッチョウメ         & 045-123-4053 & 139.4961 & 35.45918 & 1830\\\\\n",
       "\\end{tabular}\n"
      ],
      "text/markdown": [
       "\n",
       "A data.frame: 5 × 10\n",
       "\n",
       "| <!--/--> | store_cd &lt;chr&gt; | store_name &lt;chr&gt; | prefecture_cd &lt;chr&gt; | prefecture &lt;chr&gt; | address &lt;chr&gt; | address_kana &lt;chr&gt; | tel_no &lt;chr&gt; | longitude &lt;dbl&gt; | latitude &lt;dbl&gt; | floor_area &lt;dbl&gt; |\n",
       "|---|---|---|---|---|---|---|---|---|---|---|\n",
       "| 1 | S14010 | 菊名店       | 14 | 神奈川県 | 神奈川県横浜市港北区菊名一丁目         | カナガワケンヨコハマシコウホククキクナイッチョウメ         | 045-123-4032 | 139.6326 | 35.50049 | 1732 |\n",
       "| 2 | S14033 | 阿久和店     | 14 | 神奈川県 | 神奈川県横浜市瀬谷区阿久和西一丁目     | カナガワケンヨコハマシセヤクアクワニシイッチョウメ         | 045-123-4043 | 139.4961 | 35.45918 | 1495 |\n",
       "| 3 | S14036 | 相模原中央店 | 14 | 神奈川県 | 神奈川県相模原市中央二丁目             | カナガワケンサガミハラシチュウオウニチョウメ               | 042-123-4045 | 139.3716 | 35.57327 | 1679 |\n",
       "| 4 | S14040 | 長津田店     | 14 | 神奈川県 | 神奈川県横浜市緑区長津田みなみ台五丁目 | カナガワケンヨコハマシミドリクナガツタミナミダイゴチョウメ | 045-123-4046 | 139.4994 | 35.52398 | 1548 |\n",
       "| 5 | S14050 | 阿久和西店   | 14 | 神奈川県 | 神奈川県横浜市瀬谷区阿久和西一丁目     | カナガワケンヨコハマシセヤクアクワニシイッチョウメ         | 045-123-4053 | 139.4961 | 35.45918 | 1830 |\n",
       "\n"
      ],
      "text/plain": [
       "  store_cd store_name   prefecture_cd prefecture\n",
       "1 S14010   菊名店       14            神奈川県  \n",
       "2 S14033   阿久和店     14            神奈川県  \n",
       "3 S14036   相模原中央店 14            神奈川県  \n",
       "4 S14040   長津田店     14            神奈川県  \n",
       "5 S14050   阿久和西店   14            神奈川県  \n",
       "  address                               \n",
       "1 神奈川県横浜市港北区菊名一丁目        \n",
       "2 神奈川県横浜市瀬谷区阿久和西一丁目    \n",
       "3 神奈川県相模原市中央二丁目            \n",
       "4 神奈川県横浜市緑区長津田みなみ台五丁目\n",
       "5 神奈川県横浜市瀬谷区阿久和西一丁目    \n",
       "  address_kana                                               tel_no      \n",
       "1 カナガワケンヨコハマシコウホククキクナイッチョウメ         045-123-4032\n",
       "2 カナガワケンヨコハマシセヤクアクワニシイッチョウメ         045-123-4043\n",
       "3 カナガワケンサガミハラシチュウオウニチョウメ               042-123-4045\n",
       "4 カナガワケンヨコハマシミドリクナガツタミナミダイゴチョウメ 045-123-4046\n",
       "5 カナガワケンヨコハマシセヤクアクワニシイッチョウメ         045-123-4053\n",
       "  longitude latitude floor_area\n",
       "1 139.6326  35.50049 1732      \n",
       "2 139.4961  35.45918 1495      \n",
       "3 139.3716  35.57327 1679      \n",
       "4 139.4994  35.52398 1548      \n",
       "5 139.4961  35.45918 1830      "
      ]
     },
     "metadata": {},
     "output_type": "display_data"
    }
   ],
   "source": [
    "head(df_store %>% filter(grepl(\"^S14\", store_cd)), n=5)"
   ]
  },
  {
   "cell_type": "markdown",
   "metadata": {},
   "source": [
    "---\n",
    "> R-011: 顧客データフレーム（df_customer）から顧客ID（customer_id）の末尾が1のものだけ全項目抽出し、10件だけ表示せよ。"
   ]
  },
  {
   "cell_type": "code",
   "execution_count": null,
   "metadata": {},
   "outputs": [],
   "source": []
  },
  {
   "cell_type": "markdown",
   "metadata": {},
   "source": [
    "---\n",
    "> R-012: 店舗データフレーム（df_store）から横浜市の店舗だけ全項目表示せよ。"
   ]
  },
  {
   "cell_type": "code",
   "execution_count": 12,
   "metadata": {},
   "outputs": [
    {
     "data": {
      "text/html": [
       "<table>\n",
       "<caption>A data.frame: 11 × 10</caption>\n",
       "<thead>\n",
       "\t<tr><th scope=col>store_cd</th><th scope=col>store_name</th><th scope=col>prefecture_cd</th><th scope=col>prefecture</th><th scope=col>address</th><th scope=col>address_kana</th><th scope=col>tel_no</th><th scope=col>longitude</th><th scope=col>latitude</th><th scope=col>floor_area</th></tr>\n",
       "\t<tr><th scope=col>&lt;chr&gt;</th><th scope=col>&lt;chr&gt;</th><th scope=col>&lt;chr&gt;</th><th scope=col>&lt;chr&gt;</th><th scope=col>&lt;chr&gt;</th><th scope=col>&lt;chr&gt;</th><th scope=col>&lt;chr&gt;</th><th scope=col>&lt;dbl&gt;</th><th scope=col>&lt;dbl&gt;</th><th scope=col>&lt;dbl&gt;</th></tr>\n",
       "</thead>\n",
       "<tbody>\n",
       "\t<tr><td>S14010</td><td>菊名店    </td><td>14</td><td>神奈川県</td><td>神奈川県横浜市港北区菊名一丁目        </td><td>カナガワケンヨコハマシコウホククキクナイッチョウメ          </td><td>045-123-4032</td><td>139.6326</td><td>35.50049</td><td>1732</td></tr>\n",
       "\t<tr><td>S14033</td><td>阿久和店  </td><td>14</td><td>神奈川県</td><td>神奈川県横浜市瀬谷区阿久和西一丁目    </td><td>カナガワケンヨコハマシセヤクアクワニシイッチョウメ          </td><td>045-123-4043</td><td>139.4961</td><td>35.45918</td><td>1495</td></tr>\n",
       "\t<tr><td>S14040</td><td>長津田店  </td><td>14</td><td>神奈川県</td><td>神奈川県横浜市緑区長津田みなみ台五丁目</td><td>カナガワケンヨコハマシミドリクナガツタミナミダイゴチョウメ  </td><td>045-123-4046</td><td>139.4994</td><td>35.52398</td><td>1548</td></tr>\n",
       "\t<tr><td>S14050</td><td>阿久和西店</td><td>14</td><td>神奈川県</td><td>神奈川県横浜市瀬谷区阿久和西一丁目    </td><td>カナガワケンヨコハマシセヤクアクワニシイッチョウメ          </td><td>045-123-4053</td><td>139.4961</td><td>35.45918</td><td>1830</td></tr>\n",
       "\t<tr><td>S14028</td><td>二ツ橋店  </td><td>14</td><td>神奈川県</td><td>神奈川県横浜市瀬谷区二ツ橋町          </td><td>カナガワケンヨコハマシセヤクフタツバシチョウ                </td><td>045-123-4042</td><td>139.4963</td><td>35.46304</td><td>1574</td></tr>\n",
       "\t<tr><td>S14012</td><td>本牧和田店</td><td>14</td><td>神奈川県</td><td>神奈川県横浜市中区本牧和田            </td><td>カナガワケンヨコハマシナカクホンモクワダ                    </td><td>045-123-4034</td><td>139.6582</td><td>35.42156</td><td>1341</td></tr>\n",
       "\t<tr><td>S14046</td><td>北山田店  </td><td>14</td><td>神奈川県</td><td>神奈川県横浜市都筑区北山田一丁目      </td><td>カナガワケンヨコハマシツヅキクキタヤマタイッチョウメ        </td><td>045-123-4049</td><td>139.5916</td><td>35.56189</td><td> 831</td></tr>\n",
       "\t<tr><td>S14011</td><td>日吉本町店</td><td>14</td><td>神奈川県</td><td>神奈川県横浜市港北区日吉本町四丁目    </td><td>カナガワケンヨコハマシコウホククヒヨシホンチョウヨンチョウメ</td><td>045-123-4033</td><td>139.6316</td><td>35.54655</td><td> 890</td></tr>\n",
       "\t<tr><td>S14048</td><td>中川中央店</td><td>14</td><td>神奈川県</td><td>神奈川県横浜市都筑区中川中央二丁目    </td><td>カナガワケンヨコハマシツヅキクナカガワチュウオウニチョウメ  </td><td>045-123-4051</td><td>139.5758</td><td>35.54912</td><td>1657</td></tr>\n",
       "\t<tr><td>S14042</td><td>新山下店  </td><td>14</td><td>神奈川県</td><td>神奈川県横浜市中区新山下二丁目        </td><td>カナガワケンヨコハマシナカクシンヤマシタニチョウメ          </td><td>045-123-4047</td><td>139.6593</td><td>35.43894</td><td>1044</td></tr>\n",
       "\t<tr><td>S14006</td><td>葛が谷店  </td><td>14</td><td>神奈川県</td><td>神奈川県横浜市都筑区葛が谷            </td><td>カナガワケンヨコハマシツヅキククズガヤ                      </td><td>045-123-4031</td><td>139.5633</td><td>35.53573</td><td>1886</td></tr>\n",
       "</tbody>\n",
       "</table>\n"
      ],
      "text/latex": [
       "A data.frame: 11 × 10\n",
       "\\begin{tabular}{llllllllll}\n",
       " store\\_cd & store\\_name & prefecture\\_cd & prefecture & address & address\\_kana & tel\\_no & longitude & latitude & floor\\_area\\\\\n",
       " <chr> & <chr> & <chr> & <chr> & <chr> & <chr> & <chr> & <dbl> & <dbl> & <dbl>\\\\\n",
       "\\hline\n",
       "\t S14010 & 菊名店     & 14 & 神奈川県 & 神奈川県横浜市港北区菊名一丁目         & カナガワケンヨコハマシコウホククキクナイッチョウメ           & 045-123-4032 & 139.6326 & 35.50049 & 1732\\\\\n",
       "\t S14033 & 阿久和店   & 14 & 神奈川県 & 神奈川県横浜市瀬谷区阿久和西一丁目     & カナガワケンヨコハマシセヤクアクワニシイッチョウメ           & 045-123-4043 & 139.4961 & 35.45918 & 1495\\\\\n",
       "\t S14040 & 長津田店   & 14 & 神奈川県 & 神奈川県横浜市緑区長津田みなみ台五丁目 & カナガワケンヨコハマシミドリクナガツタミナミダイゴチョウメ   & 045-123-4046 & 139.4994 & 35.52398 & 1548\\\\\n",
       "\t S14050 & 阿久和西店 & 14 & 神奈川県 & 神奈川県横浜市瀬谷区阿久和西一丁目     & カナガワケンヨコハマシセヤクアクワニシイッチョウメ           & 045-123-4053 & 139.4961 & 35.45918 & 1830\\\\\n",
       "\t S14028 & 二ツ橋店   & 14 & 神奈川県 & 神奈川県横浜市瀬谷区二ツ橋町           & カナガワケンヨコハマシセヤクフタツバシチョウ                 & 045-123-4042 & 139.4963 & 35.46304 & 1574\\\\\n",
       "\t S14012 & 本牧和田店 & 14 & 神奈川県 & 神奈川県横浜市中区本牧和田             & カナガワケンヨコハマシナカクホンモクワダ                     & 045-123-4034 & 139.6582 & 35.42156 & 1341\\\\\n",
       "\t S14046 & 北山田店   & 14 & 神奈川県 & 神奈川県横浜市都筑区北山田一丁目       & カナガワケンヨコハマシツヅキクキタヤマタイッチョウメ         & 045-123-4049 & 139.5916 & 35.56189 &  831\\\\\n",
       "\t S14011 & 日吉本町店 & 14 & 神奈川県 & 神奈川県横浜市港北区日吉本町四丁目     & カナガワケンヨコハマシコウホククヒヨシホンチョウヨンチョウメ & 045-123-4033 & 139.6316 & 35.54655 &  890\\\\\n",
       "\t S14048 & 中川中央店 & 14 & 神奈川県 & 神奈川県横浜市都筑区中川中央二丁目     & カナガワケンヨコハマシツヅキクナカガワチュウオウニチョウメ   & 045-123-4051 & 139.5758 & 35.54912 & 1657\\\\\n",
       "\t S14042 & 新山下店   & 14 & 神奈川県 & 神奈川県横浜市中区新山下二丁目         & カナガワケンヨコハマシナカクシンヤマシタニチョウメ           & 045-123-4047 & 139.6593 & 35.43894 & 1044\\\\\n",
       "\t S14006 & 葛が谷店   & 14 & 神奈川県 & 神奈川県横浜市都筑区葛が谷             & カナガワケンヨコハマシツヅキククズガヤ                       & 045-123-4031 & 139.5633 & 35.53573 & 1886\\\\\n",
       "\\end{tabular}\n"
      ],
      "text/markdown": [
       "\n",
       "A data.frame: 11 × 10\n",
       "\n",
       "| store_cd &lt;chr&gt; | store_name &lt;chr&gt; | prefecture_cd &lt;chr&gt; | prefecture &lt;chr&gt; | address &lt;chr&gt; | address_kana &lt;chr&gt; | tel_no &lt;chr&gt; | longitude &lt;dbl&gt; | latitude &lt;dbl&gt; | floor_area &lt;dbl&gt; |\n",
       "|---|---|---|---|---|---|---|---|---|---|\n",
       "| S14010 | 菊名店     | 14 | 神奈川県 | 神奈川県横浜市港北区菊名一丁目         | カナガワケンヨコハマシコウホククキクナイッチョウメ           | 045-123-4032 | 139.6326 | 35.50049 | 1732 |\n",
       "| S14033 | 阿久和店   | 14 | 神奈川県 | 神奈川県横浜市瀬谷区阿久和西一丁目     | カナガワケンヨコハマシセヤクアクワニシイッチョウメ           | 045-123-4043 | 139.4961 | 35.45918 | 1495 |\n",
       "| S14040 | 長津田店   | 14 | 神奈川県 | 神奈川県横浜市緑区長津田みなみ台五丁目 | カナガワケンヨコハマシミドリクナガツタミナミダイゴチョウメ   | 045-123-4046 | 139.4994 | 35.52398 | 1548 |\n",
       "| S14050 | 阿久和西店 | 14 | 神奈川県 | 神奈川県横浜市瀬谷区阿久和西一丁目     | カナガワケンヨコハマシセヤクアクワニシイッチョウメ           | 045-123-4053 | 139.4961 | 35.45918 | 1830 |\n",
       "| S14028 | 二ツ橋店   | 14 | 神奈川県 | 神奈川県横浜市瀬谷区二ツ橋町           | カナガワケンヨコハマシセヤクフタツバシチョウ                 | 045-123-4042 | 139.4963 | 35.46304 | 1574 |\n",
       "| S14012 | 本牧和田店 | 14 | 神奈川県 | 神奈川県横浜市中区本牧和田             | カナガワケンヨコハマシナカクホンモクワダ                     | 045-123-4034 | 139.6582 | 35.42156 | 1341 |\n",
       "| S14046 | 北山田店   | 14 | 神奈川県 | 神奈川県横浜市都筑区北山田一丁目       | カナガワケンヨコハマシツヅキクキタヤマタイッチョウメ         | 045-123-4049 | 139.5916 | 35.56189 |  831 |\n",
       "| S14011 | 日吉本町店 | 14 | 神奈川県 | 神奈川県横浜市港北区日吉本町四丁目     | カナガワケンヨコハマシコウホククヒヨシホンチョウヨンチョウメ | 045-123-4033 | 139.6316 | 35.54655 |  890 |\n",
       "| S14048 | 中川中央店 | 14 | 神奈川県 | 神奈川県横浜市都筑区中川中央二丁目     | カナガワケンヨコハマシツヅキクナカガワチュウオウニチョウメ   | 045-123-4051 | 139.5758 | 35.54912 | 1657 |\n",
       "| S14042 | 新山下店   | 14 | 神奈川県 | 神奈川県横浜市中区新山下二丁目         | カナガワケンヨコハマシナカクシンヤマシタニチョウメ           | 045-123-4047 | 139.6593 | 35.43894 | 1044 |\n",
       "| S14006 | 葛が谷店   | 14 | 神奈川県 | 神奈川県横浜市都筑区葛が谷             | カナガワケンヨコハマシツヅキククズガヤ                       | 045-123-4031 | 139.5633 | 35.53573 | 1886 |\n",
       "\n"
      ],
      "text/plain": [
       "   store_cd store_name prefecture_cd prefecture\n",
       "1  S14010   菊名店     14            神奈川県  \n",
       "2  S14033   阿久和店   14            神奈川県  \n",
       "3  S14040   長津田店   14            神奈川県  \n",
       "4  S14050   阿久和西店 14            神奈川県  \n",
       "5  S14028   二ツ橋店   14            神奈川県  \n",
       "6  S14012   本牧和田店 14            神奈川県  \n",
       "7  S14046   北山田店   14            神奈川県  \n",
       "8  S14011   日吉本町店 14            神奈川県  \n",
       "9  S14048   中川中央店 14            神奈川県  \n",
       "10 S14042   新山下店   14            神奈川県  \n",
       "11 S14006   葛が谷店   14            神奈川県  \n",
       "   address                               \n",
       "1  神奈川県横浜市港北区菊名一丁目        \n",
       "2  神奈川県横浜市瀬谷区阿久和西一丁目    \n",
       "3  神奈川県横浜市緑区長津田みなみ台五丁目\n",
       "4  神奈川県横浜市瀬谷区阿久和西一丁目    \n",
       "5  神奈川県横浜市瀬谷区二ツ橋町          \n",
       "6  神奈川県横浜市中区本牧和田            \n",
       "7  神奈川県横浜市都筑区北山田一丁目      \n",
       "8  神奈川県横浜市港北区日吉本町四丁目    \n",
       "9  神奈川県横浜市都筑区中川中央二丁目    \n",
       "10 神奈川県横浜市中区新山下二丁目        \n",
       "11 神奈川県横浜市都筑区葛が谷            \n",
       "   address_kana                                                 tel_no      \n",
       "1  カナガワケンヨコハマシコウホククキクナイッチョウメ           045-123-4032\n",
       "2  カナガワケンヨコハマシセヤクアクワニシイッチョウメ           045-123-4043\n",
       "3  カナガワケンヨコハマシミドリクナガツタミナミダイゴチョウメ   045-123-4046\n",
       "4  カナガワケンヨコハマシセヤクアクワニシイッチョウメ           045-123-4053\n",
       "5  カナガワケンヨコハマシセヤクフタツバシチョウ                 045-123-4042\n",
       "6  カナガワケンヨコハマシナカクホンモクワダ                     045-123-4034\n",
       "7  カナガワケンヨコハマシツヅキクキタヤマタイッチョウメ         045-123-4049\n",
       "8  カナガワケンヨコハマシコウホククヒヨシホンチョウヨンチョウメ 045-123-4033\n",
       "9  カナガワケンヨコハマシツヅキクナカガワチュウオウニチョウメ   045-123-4051\n",
       "10 カナガワケンヨコハマシナカクシンヤマシタニチョウメ           045-123-4047\n",
       "11 カナガワケンヨコハマシツヅキククズガヤ                       045-123-4031\n",
       "   longitude latitude floor_area\n",
       "1  139.6326  35.50049 1732      \n",
       "2  139.4961  35.45918 1495      \n",
       "3  139.4994  35.52398 1548      \n",
       "4  139.4961  35.45918 1830      \n",
       "5  139.4963  35.46304 1574      \n",
       "6  139.6582  35.42156 1341      \n",
       "7  139.5916  35.56189  831      \n",
       "8  139.6316  35.54655  890      \n",
       "9  139.5758  35.54912 1657      \n",
       "10 139.6593  35.43894 1044      \n",
       "11 139.5633  35.53573 1886      "
      ]
     },
     "metadata": {},
     "output_type": "display_data"
    }
   ],
   "source": [
    "df_store %>% filter(grepl(\"横浜市\", address))"
   ]
  },
  {
   "cell_type": "markdown",
   "metadata": {},
   "source": [
    "---\n",
    "> R-013: 顧客データフレーム（df_customer）から、ステータスコード（status_cd）の先頭がアルファベットのA〜Fで始まるデータを全項目抽出し、10件だけ表示せよ。"
   ]
  },
  {
   "cell_type": "code",
   "execution_count": null,
   "metadata": {},
   "outputs": [],
   "source": []
  },
  {
   "cell_type": "markdown",
   "metadata": {},
   "source": [
    "---\n",
    "> R-014: 顧客データフレーム（df_customer）から、ステータスコード（status_cd）の末尾が数字の1〜9で終わるデータを全項目抽出し、10件だけ表示せよ。"
   ]
  },
  {
   "cell_type": "code",
   "execution_count": null,
   "metadata": {},
   "outputs": [],
   "source": []
  },
  {
   "cell_type": "markdown",
   "metadata": {},
   "source": [
    "---\n",
    "> R-015: 顧客データフレーム（df_customer）から、ステータスコード（status_cd）の先頭がアルファベットのA〜Fで始まり、末尾が数字の1〜9で終わるデータを全項目抽出し、10件だけ表示せよ。"
   ]
  },
  {
   "cell_type": "code",
   "execution_count": null,
   "metadata": {},
   "outputs": [],
   "source": []
  },
  {
   "cell_type": "markdown",
   "metadata": {},
   "source": [
    "---\n",
    "> R-016: 店舗データフレーム（df_store）から、電話番号（tel_no）が3桁-3桁-4桁のデータを全項目表示せよ。"
   ]
  },
  {
   "cell_type": "code",
   "execution_count": null,
   "metadata": {},
   "outputs": [],
   "source": []
  },
  {
   "cell_type": "markdown",
   "metadata": {},
   "source": [
    "---\n",
    "> R-017: 顧客データフレーム（df_customer）を生年月日（birth_day）で高齢順にソートし、先頭10件を全項目表示せよ。"
   ]
  },
  {
   "cell_type": "code",
   "execution_count": 17,
   "metadata": {},
   "outputs": [
    {
     "data": {
      "text/html": [
       "<table>\n",
       "<caption>A data.frame: 5 × 11</caption>\n",
       "<thead>\n",
       "\t<tr><th></th><th scope=col>customer_id</th><th scope=col>customer_name</th><th scope=col>gender_cd</th><th scope=col>gender</th><th scope=col>birth_day</th><th scope=col>age</th><th scope=col>postal_cd</th><th scope=col>address</th><th scope=col>application_store_cd</th><th scope=col>application_date</th><th scope=col>status_cd</th></tr>\n",
       "\t<tr><th></th><th scope=col>&lt;chr&gt;</th><th scope=col>&lt;chr&gt;</th><th scope=col>&lt;chr&gt;</th><th scope=col>&lt;chr&gt;</th><th scope=col>&lt;date&gt;</th><th scope=col>&lt;int&gt;</th><th scope=col>&lt;chr&gt;</th><th scope=col>&lt;chr&gt;</th><th scope=col>&lt;chr&gt;</th><th scope=col>&lt;chr&gt;</th><th scope=col>&lt;chr&gt;</th></tr>\n",
       "</thead>\n",
       "<tbody>\n",
       "\t<tr><th scope=row>18818</th><td>CS003813000014</td><td>村山 菜々美</td><td>1</td><td>女性</td><td>1928-11-26</td><td>90</td><td>182-0007</td><td>東京都調布市菊野台**********      </td><td>S13003</td><td>20160214</td><td>0-00000000-0</td></tr>\n",
       "\t<tr><th scope=row>12329</th><td>CS026813000004</td><td>吉村 朝陽  </td><td>1</td><td>女性</td><td>1928-12-14</td><td>90</td><td>251-0043</td><td>神奈川県藤沢市辻堂元町**********  </td><td>S14026</td><td>20150723</td><td>0-00000000-0</td></tr>\n",
       "\t<tr><th scope=row>15683</th><td>CS018811000003</td><td>熊沢 美里  </td><td>1</td><td>女性</td><td>1929-01-07</td><td>90</td><td>204-0004</td><td>東京都清瀬市野塩**********        </td><td>S13018</td><td>20150403</td><td>0-00000000-0</td></tr>\n",
       "\t<tr><th scope=row>15303</th><td>CS027803000004</td><td>内村 拓郎  </td><td>0</td><td>男性</td><td>1929-01-12</td><td>90</td><td>251-0031</td><td>神奈川県藤沢市鵠沼藤が谷**********</td><td>S14027</td><td>20151227</td><td>0-00000000-0</td></tr>\n",
       "\t<tr><th scope=row>1682</th><td>CS013801000003</td><td>天野 拓郎  </td><td>0</td><td>男性</td><td>1929-01-15</td><td>90</td><td>274-0824</td><td>千葉県船橋市前原東**********      </td><td>S12013</td><td>20160120</td><td>0-00000000-0</td></tr>\n",
       "</tbody>\n",
       "</table>\n"
      ],
      "text/latex": [
       "A data.frame: 5 × 11\n",
       "\\begin{tabular}{r|lllllllllll}\n",
       "  & customer\\_id & customer\\_name & gender\\_cd & gender & birth\\_day & age & postal\\_cd & address & application\\_store\\_cd & application\\_date & status\\_cd\\\\\n",
       "  & <chr> & <chr> & <chr> & <chr> & <date> & <int> & <chr> & <chr> & <chr> & <chr> & <chr>\\\\\n",
       "\\hline\n",
       "\t18818 & CS003813000014 & 村山 菜々美 & 1 & 女性 & 1928-11-26 & 90 & 182-0007 & 東京都調布市菊野台**********       & S13003 & 20160214 & 0-00000000-0\\\\\n",
       "\t12329 & CS026813000004 & 吉村 朝陽   & 1 & 女性 & 1928-12-14 & 90 & 251-0043 & 神奈川県藤沢市辻堂元町**********   & S14026 & 20150723 & 0-00000000-0\\\\\n",
       "\t15683 & CS018811000003 & 熊沢 美里   & 1 & 女性 & 1929-01-07 & 90 & 204-0004 & 東京都清瀬市野塩**********         & S13018 & 20150403 & 0-00000000-0\\\\\n",
       "\t15303 & CS027803000004 & 内村 拓郎   & 0 & 男性 & 1929-01-12 & 90 & 251-0031 & 神奈川県藤沢市鵠沼藤が谷********** & S14027 & 20151227 & 0-00000000-0\\\\\n",
       "\t1682 & CS013801000003 & 天野 拓郎   & 0 & 男性 & 1929-01-15 & 90 & 274-0824 & 千葉県船橋市前原東**********       & S12013 & 20160120 & 0-00000000-0\\\\\n",
       "\\end{tabular}\n"
      ],
      "text/markdown": [
       "\n",
       "A data.frame: 5 × 11\n",
       "\n",
       "| <!--/--> | customer_id &lt;chr&gt; | customer_name &lt;chr&gt; | gender_cd &lt;chr&gt; | gender &lt;chr&gt; | birth_day &lt;date&gt; | age &lt;int&gt; | postal_cd &lt;chr&gt; | address &lt;chr&gt; | application_store_cd &lt;chr&gt; | application_date &lt;chr&gt; | status_cd &lt;chr&gt; |\n",
       "|---|---|---|---|---|---|---|---|---|---|---|---|\n",
       "| 18818 | CS003813000014 | 村山 菜々美 | 1 | 女性 | 1928-11-26 | 90 | 182-0007 | 東京都調布市菊野台**********       | S13003 | 20160214 | 0-00000000-0 |\n",
       "| 12329 | CS026813000004 | 吉村 朝陽   | 1 | 女性 | 1928-12-14 | 90 | 251-0043 | 神奈川県藤沢市辻堂元町**********   | S14026 | 20150723 | 0-00000000-0 |\n",
       "| 15683 | CS018811000003 | 熊沢 美里   | 1 | 女性 | 1929-01-07 | 90 | 204-0004 | 東京都清瀬市野塩**********         | S13018 | 20150403 | 0-00000000-0 |\n",
       "| 15303 | CS027803000004 | 内村 拓郎   | 0 | 男性 | 1929-01-12 | 90 | 251-0031 | 神奈川県藤沢市鵠沼藤が谷********** | S14027 | 20151227 | 0-00000000-0 |\n",
       "| 1682 | CS013801000003 | 天野 拓郎   | 0 | 男性 | 1929-01-15 | 90 | 274-0824 | 千葉県船橋市前原東**********       | S12013 | 20160120 | 0-00000000-0 |\n",
       "\n"
      ],
      "text/plain": [
       "      customer_id    customer_name gender_cd gender birth_day  age postal_cd\n",
       "18818 CS003813000014 村山 菜々美   1         女性   1928-11-26 90  182-0007 \n",
       "12329 CS026813000004 吉村 朝陽     1         女性   1928-12-14 90  251-0043 \n",
       "15683 CS018811000003 熊沢 美里     1         女性   1929-01-07 90  204-0004 \n",
       "15303 CS027803000004 内村 拓郎     0         男性   1929-01-12 90  251-0031 \n",
       "1682  CS013801000003 天野 拓郎     0         男性   1929-01-15 90  274-0824 \n",
       "      address                            application_store_cd application_date\n",
       "18818 東京都調布市菊野台**********       S13003               20160214        \n",
       "12329 神奈川県藤沢市辻堂元町**********   S14026               20150723        \n",
       "15683 東京都清瀬市野塩**********         S13018               20150403        \n",
       "15303 神奈川県藤沢市鵠沼藤が谷********** S14027               20151227        \n",
       "1682  千葉県船橋市前原東**********       S12013               20160120        \n",
       "      status_cd   \n",
       "18818 0-00000000-0\n",
       "12329 0-00000000-0\n",
       "15683 0-00000000-0\n",
       "15303 0-00000000-0\n",
       "1682  0-00000000-0"
      ]
     },
     "metadata": {},
     "output_type": "display_data"
    }
   ],
   "source": [
    "head(\n",
    "    df_customer[order(df_customer$birth_day,\n",
    "                      decreasing=FALSE),\n",
    "               ],\n",
    "    n=5\n",
    ")"
   ]
  },
  {
   "cell_type": "markdown",
   "metadata": {},
   "source": [
    "---\n",
    "> R-018: 顧客データフレーム（df_customer）を生年月日（birth_day）で若い順にソートし、先頭10件を全項目表示せよ。"
   ]
  },
  {
   "cell_type": "code",
   "execution_count": 19,
   "metadata": {},
   "outputs": [
    {
     "data": {
      "text/html": [
       "<table>\n",
       "<caption>A data.frame: 5 × 11</caption>\n",
       "<thead>\n",
       "\t<tr><th></th><th scope=col>customer_id</th><th scope=col>customer_name</th><th scope=col>gender_cd</th><th scope=col>gender</th><th scope=col>birth_day</th><th scope=col>age</th><th scope=col>postal_cd</th><th scope=col>address</th><th scope=col>application_store_cd</th><th scope=col>application_date</th><th scope=col>status_cd</th></tr>\n",
       "\t<tr><th></th><th scope=col>&lt;chr&gt;</th><th scope=col>&lt;chr&gt;</th><th scope=col>&lt;chr&gt;</th><th scope=col>&lt;chr&gt;</th><th scope=col>&lt;date&gt;</th><th scope=col>&lt;int&gt;</th><th scope=col>&lt;chr&gt;</th><th scope=col>&lt;chr&gt;</th><th scope=col>&lt;chr&gt;</th><th scope=col>&lt;chr&gt;</th><th scope=col>&lt;chr&gt;</th></tr>\n",
       "</thead>\n",
       "<tbody>\n",
       "\t<tr><th scope=row>15640</th><td>CS035114000004</td><td>大村 美里  </td><td>1</td><td>女性</td><td>2007-11-25</td><td>11</td><td>156-0053</td><td>東京都世田谷区桜**********      </td><td>S13035</td><td>20150619</td><td>6-20091205-6</td></tr>\n",
       "\t<tr><th scope=row>7469</th><td>CS022103000002</td><td>福山 はじめ</td><td>9</td><td>不明</td><td>2007-10-02</td><td>11</td><td>249-0006</td><td>神奈川県逗子市逗子**********    </td><td>S14022</td><td>20160909</td><td>0-00000000-0</td></tr>\n",
       "\t<tr><th scope=row>10746</th><td>CS002113000009</td><td>柴田 真悠子</td><td>1</td><td>女性</td><td>2007-09-17</td><td>11</td><td>184-0014</td><td>東京都小金井市貫井南町**********</td><td>S13002</td><td>20160304</td><td>0-00000000-0</td></tr>\n",
       "\t<tr><th scope=row>19812</th><td>CS004115000014</td><td>松井 京子  </td><td>1</td><td>女性</td><td>2007-08-09</td><td>11</td><td>165-0031</td><td>東京都中野区上鷺宮**********    </td><td>S13004</td><td>20161120</td><td>1-20081231-1</td></tr>\n",
       "\t<tr><th scope=row>7040</th><td>CS002114000010</td><td>山内 遥    </td><td>1</td><td>女性</td><td>2007-06-03</td><td>11</td><td>184-0015</td><td>東京都小金井市貫井北町**********</td><td>S13002</td><td>20160920</td><td>6-20100510-1</td></tr>\n",
       "</tbody>\n",
       "</table>\n"
      ],
      "text/latex": [
       "A data.frame: 5 × 11\n",
       "\\begin{tabular}{r|lllllllllll}\n",
       "  & customer\\_id & customer\\_name & gender\\_cd & gender & birth\\_day & age & postal\\_cd & address & application\\_store\\_cd & application\\_date & status\\_cd\\\\\n",
       "  & <chr> & <chr> & <chr> & <chr> & <date> & <int> & <chr> & <chr> & <chr> & <chr> & <chr>\\\\\n",
       "\\hline\n",
       "\t15640 & CS035114000004 & 大村 美里   & 1 & 女性 & 2007-11-25 & 11 & 156-0053 & 東京都世田谷区桜**********       & S13035 & 20150619 & 6-20091205-6\\\\\n",
       "\t7469 & CS022103000002 & 福山 はじめ & 9 & 不明 & 2007-10-02 & 11 & 249-0006 & 神奈川県逗子市逗子**********     & S14022 & 20160909 & 0-00000000-0\\\\\n",
       "\t10746 & CS002113000009 & 柴田 真悠子 & 1 & 女性 & 2007-09-17 & 11 & 184-0014 & 東京都小金井市貫井南町********** & S13002 & 20160304 & 0-00000000-0\\\\\n",
       "\t19812 & CS004115000014 & 松井 京子   & 1 & 女性 & 2007-08-09 & 11 & 165-0031 & 東京都中野区上鷺宮**********     & S13004 & 20161120 & 1-20081231-1\\\\\n",
       "\t7040 & CS002114000010 & 山内 遥     & 1 & 女性 & 2007-06-03 & 11 & 184-0015 & 東京都小金井市貫井北町********** & S13002 & 20160920 & 6-20100510-1\\\\\n",
       "\\end{tabular}\n"
      ],
      "text/markdown": [
       "\n",
       "A data.frame: 5 × 11\n",
       "\n",
       "| <!--/--> | customer_id &lt;chr&gt; | customer_name &lt;chr&gt; | gender_cd &lt;chr&gt; | gender &lt;chr&gt; | birth_day &lt;date&gt; | age &lt;int&gt; | postal_cd &lt;chr&gt; | address &lt;chr&gt; | application_store_cd &lt;chr&gt; | application_date &lt;chr&gt; | status_cd &lt;chr&gt; |\n",
       "|---|---|---|---|---|---|---|---|---|---|---|---|\n",
       "| 15640 | CS035114000004 | 大村 美里   | 1 | 女性 | 2007-11-25 | 11 | 156-0053 | 東京都世田谷区桜**********       | S13035 | 20150619 | 6-20091205-6 |\n",
       "| 7469 | CS022103000002 | 福山 はじめ | 9 | 不明 | 2007-10-02 | 11 | 249-0006 | 神奈川県逗子市逗子**********     | S14022 | 20160909 | 0-00000000-0 |\n",
       "| 10746 | CS002113000009 | 柴田 真悠子 | 1 | 女性 | 2007-09-17 | 11 | 184-0014 | 東京都小金井市貫井南町********** | S13002 | 20160304 | 0-00000000-0 |\n",
       "| 19812 | CS004115000014 | 松井 京子   | 1 | 女性 | 2007-08-09 | 11 | 165-0031 | 東京都中野区上鷺宮**********     | S13004 | 20161120 | 1-20081231-1 |\n",
       "| 7040 | CS002114000010 | 山内 遥     | 1 | 女性 | 2007-06-03 | 11 | 184-0015 | 東京都小金井市貫井北町********** | S13002 | 20160920 | 6-20100510-1 |\n",
       "\n"
      ],
      "text/plain": [
       "      customer_id    customer_name gender_cd gender birth_day  age postal_cd\n",
       "15640 CS035114000004 大村 美里     1         女性   2007-11-25 11  156-0053 \n",
       "7469  CS022103000002 福山 はじめ   9         不明   2007-10-02 11  249-0006 \n",
       "10746 CS002113000009 柴田 真悠子   1         女性   2007-09-17 11  184-0014 \n",
       "19812 CS004115000014 松井 京子     1         女性   2007-08-09 11  165-0031 \n",
       "7040  CS002114000010 山内 遥       1         女性   2007-06-03 11  184-0015 \n",
       "      address                          application_store_cd application_date\n",
       "15640 東京都世田谷区桜**********       S13035               20150619        \n",
       "7469  神奈川県逗子市逗子**********     S14022               20160909        \n",
       "10746 東京都小金井市貫井南町********** S13002               20160304        \n",
       "19812 東京都中野区上鷺宮**********     S13004               20161120        \n",
       "7040  東京都小金井市貫井北町********** S13002               20160920        \n",
       "      status_cd   \n",
       "15640 6-20091205-6\n",
       "7469  0-00000000-0\n",
       "10746 0-00000000-0\n",
       "19812 1-20081231-1\n",
       "7040  6-20100510-1"
      ]
     },
     "metadata": {},
     "output_type": "display_data"
    }
   ],
   "source": [
    "head(\n",
    "    df_customer[order(df_customer$birth_day,\n",
    "                      decreasing=TRUE),\n",
    "               ],\n",
    "    n=5\n",
    ")"
   ]
  },
  {
   "cell_type": "markdown",
   "metadata": {},
   "source": [
    "---\n",
    "> R-019: レシート明細データフレーム（df_receipt）に対し、1件あたりの売上金額（amount）が高い順にランクを付与し、先頭10件を抽出せよ。項目は顧客ID（customer_id）、売上金額（amount）、付与したランクを表示させること。なお、売上金額（amount）が等しい場合は同一順位を付与するものとする。"
   ]
  },
  {
   "cell_type": "code",
   "execution_count": null,
   "metadata": {},
   "outputs": [],
   "source": []
  },
  {
   "cell_type": "markdown",
   "metadata": {},
   "source": [
    "---\n",
    "> R-020: レシート明細データフレーム（df_receipt）に対し、1件あたりの売上金額（amount）が高い順にランクを付与し、先頭10件を抽出せよ。項目は顧客ID（customer_id）、売上金額（amount）、付与したランクを表示させること。なお、売上金額（amount）が等しい場合でも別順位を付与すること。"
   ]
  },
  {
   "cell_type": "code",
   "execution_count": null,
   "metadata": {},
   "outputs": [],
   "source": []
  },
  {
   "cell_type": "markdown",
   "metadata": {},
   "source": [
    "---\n",
    "> R-021: レシート明細データフレーム（df_receipt）に対し、件数をカウントせよ。"
   ]
  },
  {
   "cell_type": "code",
   "execution_count": null,
   "metadata": {},
   "outputs": [],
   "source": []
  },
  {
   "cell_type": "markdown",
   "metadata": {},
   "source": [
    "---\n",
    "> R-022: レシート明細データフレーム（df_receipt）の顧客ID（customer_id）に対し、ユニーク件数をカウントせよ。"
   ]
  },
  {
   "cell_type": "code",
   "execution_count": null,
   "metadata": {},
   "outputs": [],
   "source": []
  },
  {
   "cell_type": "markdown",
   "metadata": {},
   "source": [
    "---\n",
    "> R-023: レシート明細データフレーム（df_receipt）に対し、店舗コード（store_cd）ごとに売上金額（amount）と売上数量（quantity）を合計せよ。"
   ]
  },
  {
   "cell_type": "code",
   "execution_count": null,
   "metadata": {},
   "outputs": [],
   "source": []
  },
  {
   "cell_type": "markdown",
   "metadata": {},
   "source": [
    "---\n",
    "> R-024: レシート明細データフレーム（df_receipt）に対し、顧客ID（customer_id）ごとに最も新しい売上日（sales_ymd）を求め、10件表示せよ。"
   ]
  },
  {
   "cell_type": "code",
   "execution_count": null,
   "metadata": {},
   "outputs": [],
   "source": []
  },
  {
   "cell_type": "markdown",
   "metadata": {},
   "source": [
    "---\n",
    "> R-025: レシート明細データフレーム（df_receipt）に対し、顧客ID（customer_id）ごとに最も古い売上日（sales_ymd）を求め、10件表示せよ。"
   ]
  },
  {
   "cell_type": "code",
   "execution_count": null,
   "metadata": {},
   "outputs": [],
   "source": []
  },
  {
   "cell_type": "markdown",
   "metadata": {},
   "source": [
    "---\n",
    "> R-026: レシート明細データフレーム（df_receipt）に対し、顧客ID（customer_id）ごとに最も新しい売上日（sales_ymd）と古い売上日を求め、両者が異なるデータを10件表示せよ。"
   ]
  },
  {
   "cell_type": "code",
   "execution_count": null,
   "metadata": {},
   "outputs": [],
   "source": []
  },
  {
   "cell_type": "markdown",
   "metadata": {},
   "source": [
    "---\n",
    "> R-027: レシート明細データフレーム（df_receipt）に対し、店舗コード（store_cd）ごとに売上金額（amount）の平均を計算し、降順でTOP5を表示せよ。"
   ]
  },
  {
   "cell_type": "code",
   "execution_count": null,
   "metadata": {},
   "outputs": [],
   "source": []
  },
  {
   "cell_type": "markdown",
   "metadata": {},
   "source": [
    "---\n",
    "> R-028: レシート明細データフレーム（df_receipt）に対し、店舗コード（store_cd）ごとに売上金額（amount）の中央値を計算し、降順でTOP5を表示せよ。"
   ]
  },
  {
   "cell_type": "code",
   "execution_count": null,
   "metadata": {},
   "outputs": [],
   "source": []
  },
  {
   "cell_type": "markdown",
   "metadata": {},
   "source": [
    "---\n",
    "> R-029: レシート明細データフレーム（df_receipt）に対し、店舗コード（store_cd）ごとに商品コード（product_cd）の最頻値を求めよ。"
   ]
  },
  {
   "cell_type": "code",
   "execution_count": null,
   "metadata": {},
   "outputs": [],
   "source": []
  },
  {
   "cell_type": "markdown",
   "metadata": {},
   "source": [
    "---\n",
    "> R-030: レシート明細データフレーム（df_receipt）に対し、店舗コード（store_cd）ごとに売上金額（amount）の標本分散を計算し、降順でTOP5を表示せよ。"
   ]
  },
  {
   "cell_type": "code",
   "execution_count": null,
   "metadata": {},
   "outputs": [],
   "source": []
  },
  {
   "cell_type": "markdown",
   "metadata": {},
   "source": [
    "---\n",
    "> R-031: レシート明細データフレーム（df_receipt）に対し、店舗コード（store_cd）ごとに売上金額（amount）の標本標準偏差を計算し、降順でTOP5を表示せよ。"
   ]
  },
  {
   "cell_type": "code",
   "execution_count": null,
   "metadata": {},
   "outputs": [],
   "source": []
  },
  {
   "cell_type": "markdown",
   "metadata": {},
   "source": [
    "---\n",
    "> R-032: レシート明細データフレーム（df_receipt）の売上金額（amount）について、25％刻みでパーセンタイル値を求めよ。"
   ]
  },
  {
   "cell_type": "code",
   "execution_count": null,
   "metadata": {},
   "outputs": [],
   "source": []
  },
  {
   "cell_type": "markdown",
   "metadata": {},
   "source": [
    "---\n",
    "> R-033: レシート明細データフレーム（df_receipt）に対し、店舗コード（store_cd）ごとに売上金額（amount）の平均を計算し、330以上のものを抽出せよ。"
   ]
  },
  {
   "cell_type": "code",
   "execution_count": null,
   "metadata": {},
   "outputs": [],
   "source": []
  },
  {
   "cell_type": "markdown",
   "metadata": {},
   "source": [
    "---\n",
    "> R-034: レシート明細データフレーム（df_receipt）に対し、顧客ID（customer_id）ごとに売上金額（amount）を合計して全顧客の平均を求めよ。ただし、顧客IDが\"Z\"から始まるのものは非会員を表すため、除外して計算すること。"
   ]
  },
  {
   "cell_type": "code",
   "execution_count": null,
   "metadata": {},
   "outputs": [],
   "source": []
  },
  {
   "cell_type": "markdown",
   "metadata": {},
   "source": [
    "---\n",
    "> R-035: レシート明細データフレーム（df_receipt）に対し、顧客ID（customer_id）ごとに売上金額（amount）を合計して全顧客の平均を求め、平均以上に買い物をしている顧客を抽出せよ。ただし、顧客IDが\"Z\"から始まるのものは非会員を表すため、除外して計算すること。なお、データは10件だけ表示させれば良い。"
   ]
  },
  {
   "cell_type": "code",
   "execution_count": null,
   "metadata": {},
   "outputs": [],
   "source": []
  },
  {
   "cell_type": "markdown",
   "metadata": {},
   "source": [
    "---\n",
    "> R-036: レシート明細データフレーム（df_receipt）と店舗データフレーム（df_store）を内部結合し、レシート明細データフレームの全項目と店舗データフレームの店舗名（store_name）を10件表示させよ。"
   ]
  },
  {
   "cell_type": "code",
   "execution_count": null,
   "metadata": {},
   "outputs": [],
   "source": []
  },
  {
   "cell_type": "markdown",
   "metadata": {},
   "source": [
    "---\n",
    "> R-037: 商品データフレーム（df_product）とカテゴリデータフレーム（df_category）を内部結合し、商品データフレームの全項目とカテゴリデータフレームの小区分名（category_small_name）を10件表示させよ。"
   ]
  },
  {
   "cell_type": "code",
   "execution_count": null,
   "metadata": {},
   "outputs": [],
   "source": []
  },
  {
   "cell_type": "markdown",
   "metadata": {},
   "source": [
    "---\n",
    "> R-038: 顧客データフレーム（df_customer）とレシート明細データフレーム（df_receipt）から、各顧客ごとの売上金額合計を求めよ。ただし、買い物の実績がない顧客については売上金額を0として表示させること。また、顧客は性別コード（gender_cd）が女性（1）であるものを対象とし、非会員（顧客IDが'Z'から始まるもの）は除外すること。なお、結果は10件だけ表示させれば良い。"
   ]
  },
  {
   "cell_type": "code",
   "execution_count": null,
   "metadata": {},
   "outputs": [],
   "source": []
  },
  {
   "cell_type": "markdown",
   "metadata": {},
   "source": [
    "---\n",
    "> R-039: レシート明細データフレーム（df_receipt）から売上日数の多い顧客の上位20件と、売上金額合計の多い顧客の上位20件を抽出し、完全外部結合せよ。ただし、非会員（顧客IDが'Z'から始まるもの）は除外すること。"
   ]
  },
  {
   "cell_type": "code",
   "execution_count": null,
   "metadata": {},
   "outputs": [],
   "source": []
  },
  {
   "cell_type": "markdown",
   "metadata": {},
   "source": [
    "---\n",
    "> R-040: 全ての店舗と全ての商品を組み合わせると何件のデータとなるか調査したい。店舗（df_store）と商品（df_product）を直積した件数を計算せよ。"
   ]
  },
  {
   "cell_type": "code",
   "execution_count": null,
   "metadata": {},
   "outputs": [],
   "source": []
  },
  {
   "cell_type": "markdown",
   "metadata": {},
   "source": [
    "---\n",
    "> R-041: レシート明細データフレーム（df_receipt）の売上金額（amount）を日付（sales_ymd）ごとに集計し、前日からの売上金額増減を計算せよ。なお、計算結果は10件表示すればよい。"
   ]
  },
  {
   "cell_type": "code",
   "execution_count": null,
   "metadata": {},
   "outputs": [],
   "source": []
  },
  {
   "cell_type": "markdown",
   "metadata": {},
   "source": [
    "---\n",
    "> R-042: レシート明細データフレーム（df_receipt）の売上金額（amount）を日付（sales_ymd）ごとに集計し、各日付のデータに対し、１日前、２日前、３日前のデータを結合せよ。結果は10件表示すればよい。"
   ]
  },
  {
   "cell_type": "code",
   "execution_count": null,
   "metadata": {},
   "outputs": [],
   "source": []
  },
  {
   "cell_type": "markdown",
   "metadata": {},
   "source": [
    "---\n",
    "> R-043: レシート明細データフレーム（df_receipt）と顧客データフレーム（df_customer）を結合し、性別（gender）と年代（ageから計算）ごとに売上金額（amount）を合計した売上サマリデータフレーム（df_sales_summary）を作成せよ。性別は0が男性、1が女性、9が不明を表すものとする。\n",
    ">\n",
    "> ただし、項目構成は年代、女性の売上金額、男性の売上金額、性別不明の売上金額の4項目とすること（縦に年代、横に性別のクロス集計）。また、年代は10歳ごとの階級とすること。"
   ]
  },
  {
   "cell_type": "code",
   "execution_count": null,
   "metadata": {},
   "outputs": [],
   "source": []
  },
  {
   "cell_type": "markdown",
   "metadata": {},
   "source": [
    "---\n",
    "> R-044: 前設問で作成した売上サマリデータフレーム（df_sales_summary）は性別の売上を横持ちさせたものであった。このデータフレームから性別を縦持ちさせ、年代、性別コード、売上金額の3項目に変換せよ。ただし、性別コードは男性を'00'、女性を'01'、不明を'99'とする。"
   ]
  },
  {
   "cell_type": "code",
   "execution_count": null,
   "metadata": {},
   "outputs": [],
   "source": []
  },
  {
   "cell_type": "markdown",
   "metadata": {},
   "source": [
    "---\n",
    "> R-045: 顧客データフレーム（df_customer）の生年月日（birth_day）は日付型（Date）でデータを保有している。これをYYYYMMDD形式の文字列に変換し、顧客ID（customer_id）とともに抽出せよ。データは10件を抽出すれば良い。"
   ]
  },
  {
   "cell_type": "code",
   "execution_count": null,
   "metadata": {},
   "outputs": [],
   "source": []
  },
  {
   "cell_type": "markdown",
   "metadata": {},
   "source": [
    "---\n",
    "> R-046: 顧客データフレーム（df_customer）の申し込み日（application_date）はYYYYMMDD形式の文字列型でデータを保有している。これを日付型（dateやdatetime）に変換し、顧客ID（customer_id）とともに抽出せよ。データは10件を抽出すれば良い。"
   ]
  },
  {
   "cell_type": "code",
   "execution_count": null,
   "metadata": {},
   "outputs": [],
   "source": []
  },
  {
   "cell_type": "markdown",
   "metadata": {},
   "source": [
    "---\n",
    "> R-047: レシート明細データフレーム（df_receipt）の売上日（sales_ymd）はYYYYMMDD形式の数値型でデータを保有している。これを日付型（dateやdatetime）に変換し、レシート番号(receipt_no)、レシートサブ番号（receipt_sub_no）とともに抽出せよ。データは10件を抽出すれば良い。"
   ]
  },
  {
   "cell_type": "code",
   "execution_count": null,
   "metadata": {},
   "outputs": [],
   "source": []
  },
  {
   "cell_type": "markdown",
   "metadata": {},
   "source": [
    "---\n",
    "> R-048: レシート明細データフレーム（df_receipt）の売上エポック秒（sales_epoch）は数値型のUNIX秒でデータを保有している。これを日付型（POSIXct）に変換し、レシート番号(receipt_no)、レシートサブ番号（receipt_sub_no）とともに抽出せよ。データは10件を抽出すれば良い。"
   ]
  },
  {
   "cell_type": "code",
   "execution_count": null,
   "metadata": {},
   "outputs": [],
   "source": []
  },
  {
   "cell_type": "markdown",
   "metadata": {},
   "source": [
    "---\n",
    "> R-049: レシート明細データフレーム（df_receipt）の売上エポック秒（sales_epoch）を日付型（POSIXct）に変換し、\"年\"だけ取り出してレシート番号(receipt_no)、レシートサブ番号（receipt_sub_no）とともに抽出せよ。データは10件を抽出すれば良い。"
   ]
  },
  {
   "cell_type": "code",
   "execution_count": null,
   "metadata": {},
   "outputs": [],
   "source": []
  },
  {
   "cell_type": "markdown",
   "metadata": {},
   "source": [
    "---\n",
    "> R-050: レシート明細データフレーム（df_receipt）の売上エポック秒（sales_epoch）を日付型（POSIXct）に変換し、\"月\"だけ取り出してレシート番号(receipt_no)、レシートサブ番号（receipt_sub_no）とともに抽出せよ。なお、\"月\"は0埋め2桁で取り出すこと。データは10件を抽出すれば良い。"
   ]
  },
  {
   "cell_type": "code",
   "execution_count": null,
   "metadata": {},
   "outputs": [],
   "source": []
  },
  {
   "cell_type": "markdown",
   "metadata": {},
   "source": [
    "---\n",
    "> R-051: レシート明細データフレーム（df_receipt）の売上エポック秒（sales_epoch）を日付型（POSIXct）に変換し、\"日\"だけ取り出してレシート番号(receipt_no)、レシートサブ番号（receipt_sub_no）とともに抽出せよ。なお、\"日\"は0埋め2桁で取り出すこと。データは10件を抽出すれば良い。"
   ]
  },
  {
   "cell_type": "code",
   "execution_count": null,
   "metadata": {},
   "outputs": [],
   "source": []
  },
  {
   "cell_type": "markdown",
   "metadata": {},
   "source": [
    "---\n",
    "> R-052: レシート明細データフレーム（df_receipt）の売上金額（amount）を顧客ID（customer_id）ごとに合計の上、売上金額合計に対して2000円以下を0、2000円超を1に2値化し、顧客ID、合計金額とともに10件表示せよ。ただし、顧客IDが\"Z\"から始まるのものは非会員を表すため、除外して計算すること。\n"
   ]
  },
  {
   "cell_type": "code",
   "execution_count": null,
   "metadata": {},
   "outputs": [],
   "source": []
  },
  {
   "cell_type": "markdown",
   "metadata": {},
   "source": [
    "---\n",
    "> R-053: 顧客データフレーム（df_customer）の郵便番号（postal_cd）に対し、東京（先頭3桁が100〜209のもの）を1、それ以外のものを０に２値化せよ。さらにレシート明細データフレーム（df_receipt）と結合し、全期間において買い物実績のある顧客数を、作成した2値ごとにカウントせよ。"
   ]
  },
  {
   "cell_type": "code",
   "execution_count": null,
   "metadata": {},
   "outputs": [],
   "source": []
  },
  {
   "cell_type": "markdown",
   "metadata": {},
   "source": [
    "---\n",
    "> R-054: 顧客データデータフレーム（df_customer）の住所（address）は、埼玉県、千葉県、東京都、神奈川県のいずれかとなっている。都道府県毎にコード値を作成し、顧客ID、住所とともに抽出せよ。値は埼玉県を11、千葉県を12、東京都を13、神奈川県を14とすること。結果は10件表示させれば良い。"
   ]
  },
  {
   "cell_type": "code",
   "execution_count": null,
   "metadata": {},
   "outputs": [],
   "source": []
  },
  {
   "cell_type": "markdown",
   "metadata": {},
   "source": [
    "---\n",
    "> R-055: レシート明細データフレーム（df_receipt）の売上金額（amount）を顧客ID（customer_id）ごとに合計し、その合計金額の四分位点を求めよ。その上で、顧客ごとの売上金額合計に対して以下の基準でカテゴリ値を作成し、顧客ID、売上金額と合計ともに表示せよ。カテゴリ値は上から順に1〜4とする。結果は10件表示させれば良い。\n",
    ">\n",
    "> - 最小値以上第一四分位未満\n",
    "> - 第一四分位以上第二四分位未満\n",
    "> - 第二四分位以上第三四分位未満\n",
    "> - 第三四分位以上"
   ]
  },
  {
   "cell_type": "code",
   "execution_count": null,
   "metadata": {},
   "outputs": [],
   "source": []
  },
  {
   "cell_type": "markdown",
   "metadata": {},
   "source": [
    "---\n",
    "> R-056: 顧客データフレーム（df_customer）の年齢（age）をもとに10歳刻みで年代を算出し、顧客ID（customer_id）、生年月日（birth_day）とともに抽出せよ。ただし、60歳以上は全て60歳代とすること。年代を表すカテゴリ名は任意とする。先頭10件を表示させればよい。"
   ]
  },
  {
   "cell_type": "code",
   "execution_count": null,
   "metadata": {},
   "outputs": [],
   "source": []
  },
  {
   "cell_type": "markdown",
   "metadata": {},
   "source": [
    "---\n",
    "> R-057: 前問題の抽出結果と性別（gender）を組み合わせ、新たに性別×年代の組み合わせを表すカテゴリデータを作成せよ。組み合わせを表すカテゴリの値は任意とする。先頭10件を表示させればよい。"
   ]
  },
  {
   "cell_type": "code",
   "execution_count": null,
   "metadata": {},
   "outputs": [],
   "source": []
  },
  {
   "cell_type": "markdown",
   "metadata": {},
   "source": [
    "---\n",
    "> R-058: 顧客データフレーム（df_customer）の性別コード（gender_cd）をダミー変数化し、顧客ID（customer_id）とともに抽出せよ。結果は10件表示させれば良い。"
   ]
  },
  {
   "cell_type": "code",
   "execution_count": null,
   "metadata": {},
   "outputs": [],
   "source": []
  },
  {
   "cell_type": "markdown",
   "metadata": {},
   "source": [
    "---\n",
    "> R-059: レシート明細データフレーム（df_receipt）の売上金額（amount）を顧客ID（customer_id）ごとに合計し、合計した売上金額を平均0、標準偏差1に標準化して顧客ID、売上金額合計とともに表示せよ。標準化に使用する標準偏差は、不偏標準偏差と標本標準偏差のどちらでも良いものとする。ただし、顧客IDが\"Z\"から始まるのものは非会員を表すため、除外して計算すること。結果は10件表示させれば良い。"
   ]
  },
  {
   "cell_type": "code",
   "execution_count": null,
   "metadata": {},
   "outputs": [],
   "source": []
  },
  {
   "cell_type": "markdown",
   "metadata": {},
   "source": [
    "---\n",
    "> R-060: レシート明細データフレーム（df_receipt）の売上金額（amount）を顧客ID（customer_id）ごとに合計し、合計した売上金額を最小値0、最大値1に正規化して顧客ID、売上金額合計とともに表示せよ。ただし、顧客IDが\"Z\"から始まるのものは非会員を表すため、除外して計算すること。結果は10件表示させれば良い。"
   ]
  },
  {
   "cell_type": "code",
   "execution_count": null,
   "metadata": {},
   "outputs": [],
   "source": []
  },
  {
   "cell_type": "markdown",
   "metadata": {},
   "source": [
    "---\n",
    "> R-061: レシート明細データフレーム（df_receipt）の売上金額（amount）を顧客ID（customer_id）ごとに合計し、合計した売上金額を常用対数化（底=10）して顧客ID、売上金額合計とともに表示せよ（ただし、顧客IDが\"Z\"から始まるのものは非会員を表すため、除外して計算すること）。結果は10件表示させれば良い。"
   ]
  },
  {
   "cell_type": "code",
   "execution_count": null,
   "metadata": {},
   "outputs": [],
   "source": []
  },
  {
   "cell_type": "markdown",
   "metadata": {},
   "source": [
    "---\n",
    "> R-062: レシート明細データフレーム（df_receipt）の売上金額（amount）を顧客ID（customer_id）ごとに合計し、合計した売上金額を自然対数化(底=e）して顧客ID、売上金額合計とともに表示せよ。ただし、顧客IDが\"Z\"から始まるのものは非会員を表すため、除外して計算すること。結果は10件表示させれば良い。"
   ]
  },
  {
   "cell_type": "code",
   "execution_count": null,
   "metadata": {},
   "outputs": [],
   "source": []
  },
  {
   "cell_type": "markdown",
   "metadata": {},
   "source": [
    "---\n",
    "> R-063: 商品データフレーム（df_product）の単価（unit_price）と原価（unit_cost）から、各商品の利益額を算出せよ。結果は10件表示させれば良い。"
   ]
  },
  {
   "cell_type": "code",
   "execution_count": null,
   "metadata": {},
   "outputs": [],
   "source": []
  },
  {
   "cell_type": "markdown",
   "metadata": {},
   "source": [
    "---\n",
    "> R-064: 商品データフレーム（df_product）の単価（unit_price）と原価（unit_cost）から、各商品の利益率の全体平均を算出せよ。 ただし、単価と原価にはNULLが存在することに注意せよ。"
   ]
  },
  {
   "cell_type": "code",
   "execution_count": null,
   "metadata": {},
   "outputs": [],
   "source": []
  },
  {
   "cell_type": "markdown",
   "metadata": {},
   "source": [
    "---\n",
    "> R-065: 商品データフレーム（df_product）の各商品について、利益率が30%となる新たな単価を求めよ。ただし、1円未満は切り捨てること。そして結果を10件表示させ、利益率がおよそ30％付近であることを確認せよ。ただし、単価（unit_price）と原価（unit_cost）にはNULLが存在することに注意せよ。"
   ]
  },
  {
   "cell_type": "code",
   "execution_count": null,
   "metadata": {},
   "outputs": [],
   "source": []
  },
  {
   "cell_type": "markdown",
   "metadata": {},
   "source": [
    "---\n",
    "> R-066: 商品データフレーム（df_product）の各商品について、利益率が30%となる新たな単価を求めよ。今回は、1円未満を四捨五入すること（0.5については偶数方向の丸めで良い）。そして結果を10件表示させ、利益率がおよそ30％付近であることを確認せよ。ただし、単価（unit_price）と原価（unit_cost）にはNULLが存在することに注意せよ。"
   ]
  },
  {
   "cell_type": "code",
   "execution_count": null,
   "metadata": {},
   "outputs": [],
   "source": []
  },
  {
   "cell_type": "markdown",
   "metadata": {},
   "source": [
    "---\n",
    "> R-067: 商品データフレーム（df_product）の各商品について、利益率が30%となる新たな単価を求めよ。今回は、1円未満を切り上げること。そして結果を10件表示させ、利益率がおよそ30％付近であることを確認せよ。ただし、単価（unit_price）と原価（unit_cost）にはNULLが存在することに注意せよ。"
   ]
  },
  {
   "cell_type": "code",
   "execution_count": null,
   "metadata": {},
   "outputs": [],
   "source": []
  },
  {
   "cell_type": "markdown",
   "metadata": {},
   "source": [
    "---\n",
    "> R-068: 商品データフレーム（df_product）の各商品について、消費税率10%の税込み金額を求めよ。1円未満の端数は切り捨てとし、結果は10件表示すれば良い。ただし、単価（unit_price）にはNULLが存在することに注意せよ。"
   ]
  },
  {
   "cell_type": "code",
   "execution_count": null,
   "metadata": {},
   "outputs": [],
   "source": []
  },
  {
   "cell_type": "markdown",
   "metadata": {},
   "source": [
    "---\n",
    "> R-069: レシート明細データフレーム（df_receipt）と商品データフレーム（df_product）を結合し、顧客毎に全商品の売上金額合計と、カテゴリ大区分（category_major_cd）が\"07\"（瓶詰缶詰）の売上金額合計を計算の上、両者の比率を求めよ。抽出対象はカテゴリ大区分\"07\"（瓶詰缶詰）の購入実績がある顧客のみとし、結果は10件表示させればよい。"
   ]
  },
  {
   "cell_type": "code",
   "execution_count": null,
   "metadata": {},
   "outputs": [],
   "source": []
  },
  {
   "cell_type": "markdown",
   "metadata": {},
   "source": [
    "---\n",
    "> R-070: レシート明細データフレーム（df_receipt）の売上日（sales_ymd）に対し、顧客データフレーム（df_customer）の会員申込日（application_date）からの経過日数を計算し、顧客ID（customer_id）、売上日、会員申込日とともに表示せよ。結果は10件表示させれば良い（なお、sales_ymdは数値、application_dateは文字列でデータを保持している点に注意）。"
   ]
  },
  {
   "cell_type": "code",
   "execution_count": null,
   "metadata": {},
   "outputs": [],
   "source": []
  },
  {
   "cell_type": "markdown",
   "metadata": {},
   "source": [
    "---\n",
    "> R-071: レシート明細データフレーム（df_receipt）の売上日（sales_ymd）に対し、顧客データフレーム（df_customer）の会員申込日（application_date）からの経過月数を計算し、顧客ID（customer_id）、売上日、会員申込日とともに表示せよ。結果は10件表示させれば良い（なお、sales_ymdは数値、application_dateは文字列でデータを保持している点に注意）。1ヶ月未満は切り捨てること。"
   ]
  },
  {
   "cell_type": "code",
   "execution_count": null,
   "metadata": {},
   "outputs": [],
   "source": []
  },
  {
   "cell_type": "markdown",
   "metadata": {},
   "source": [
    "---\n",
    "> R-072: レシート明細データフレーム（df_receipt）の売上日（sales_ymd）に対し、顧客データフレーム（df_customer）の会員申込日（application_date）からの経過年数を計算し、顧客ID（customer_id）、売上日、会員申込日とともに表示せよ。結果は10件表示させれば良い（なお、sales_ymdは数値、application_dateは文字列でデータを保持している点に注意）。1年未満は切り捨てること。"
   ]
  },
  {
   "cell_type": "code",
   "execution_count": null,
   "metadata": {},
   "outputs": [],
   "source": []
  },
  {
   "cell_type": "markdown",
   "metadata": {},
   "source": [
    "---\n",
    "> R-073: レシート明細データフレーム（df_receipt）の売上日（sales_ymd）に対し、顧客データフレーム（df_customer）の会員申込日（application_date）からのエポック秒による経過時間を計算し、顧客ID（customer_id）、売上日、会員申込日とともに表示せよ。結果は10件表示させれば良い（なお、sales_ymdは数値、application_dateは文字列でデータを保持している点に注意）。なお、時間情報は保有していないため各日付は0時0分0秒を表すものとする。"
   ]
  },
  {
   "cell_type": "code",
   "execution_count": null,
   "metadata": {},
   "outputs": [],
   "source": []
  },
  {
   "cell_type": "markdown",
   "metadata": {},
   "source": [
    "---\n",
    "> R-074: レシート明細データフレーム（df_receipt）の売上日（sales_ymd）に対し、当該週の月曜日からの経過日数を計算し、顧客ID、売上日、当該週の月曜日付とともに表示せよ。結果は10件表示させれば良い（なお、sales_ymdは数値でデータを保持している点に注意）。"
   ]
  },
  {
   "cell_type": "code",
   "execution_count": null,
   "metadata": {},
   "outputs": [],
   "source": []
  },
  {
   "cell_type": "markdown",
   "metadata": {},
   "source": [
    "---\n",
    "> R-075: 顧客データフレーム（df_customer）からランダムに1%のデータを抽出し、先頭から10件データを抽出せよ。"
   ]
  },
  {
   "cell_type": "code",
   "execution_count": null,
   "metadata": {},
   "outputs": [],
   "source": []
  },
  {
   "cell_type": "markdown",
   "metadata": {},
   "source": [
    "---\n",
    "> R-076: 顧客データフレーム（df_customer）から性別（gender_cd）の割合に基づきランダムに10%のデータを層化抽出データし、性別ごとに件数を集計せよ。"
   ]
  },
  {
   "cell_type": "code",
   "execution_count": null,
   "metadata": {},
   "outputs": [],
   "source": []
  },
  {
   "cell_type": "markdown",
   "metadata": {},
   "source": [
    "---\n",
    "> R-077: レシート明細データフレーム（df_receipt）の売上金額（amount）を顧客単位に合計し、合計した売上金額の外れ値を抽出せよ。ただし、顧客IDが\"Z\"から始まるのものは非会員を表すため、除外して計算すること。なお、ここでは外れ値を平均から3σ以上離れたものとする。結果は10件表示させれば良い。"
   ]
  },
  {
   "cell_type": "code",
   "execution_count": null,
   "metadata": {},
   "outputs": [],
   "source": []
  },
  {
   "cell_type": "markdown",
   "metadata": {},
   "source": [
    "---\n",
    "> R-078: レシート明細データフレーム（df_receipt）の売上金額（amount）を顧客単位に合計し、合計した売上金額の外れ値を抽出せよ。ただし、顧客IDが\"Z\"から始まるのものは非会員を表すため、除外して計算すること。なお、ここでは外れ値を第一四分位と第三四分位の差であるIQRを用いて、「第一四分位数-1.5×IQR」よりも下回るもの、または「第三四分位数+1.5×IQR」を超えるものとする。結果は10件表示させれば良い。"
   ]
  },
  {
   "cell_type": "code",
   "execution_count": null,
   "metadata": {},
   "outputs": [],
   "source": []
  },
  {
   "cell_type": "markdown",
   "metadata": {},
   "source": [
    "---\n",
    "> R-079: 商品データフレーム（df_product）の各項目に対し、欠損数を確認せよ。"
   ]
  },
  {
   "cell_type": "code",
   "execution_count": null,
   "metadata": {},
   "outputs": [],
   "source": []
  },
  {
   "cell_type": "markdown",
   "metadata": {},
   "source": [
    "---\n",
    "> R-080: 商品データフレーム（df_product）のいずれかの項目に欠損が発生しているレコードを全て削除した新たなdf_product_1を作成せよ。なお、削除前後の件数を表示させ、前設問で確認した件数だけ減少していることも確認すること。"
   ]
  },
  {
   "cell_type": "code",
   "execution_count": null,
   "metadata": {},
   "outputs": [],
   "source": []
  },
  {
   "cell_type": "markdown",
   "metadata": {},
   "source": [
    "---\n",
    "> R-081: 単価（unit_price）と原価（unit_cost）の欠損値について、それぞれの平均値で補完した新たなdf_product_2を作成せよ。なお、平均値について1円未満は四捨五入とし、0.5については偶数寄せでかまわない。補完実施後、各項目について欠損が生じていないことも確認すること。"
   ]
  },
  {
   "cell_type": "code",
   "execution_count": null,
   "metadata": {},
   "outputs": [],
   "source": []
  },
  {
   "cell_type": "markdown",
   "metadata": {},
   "source": [
    "---\n",
    "> R-082: 単価（unit_price）と原価（unit_cost）の欠損値について、それぞれの中央値で補完した新たなdf_product_3を作成せよ。なお、中央値について1円未満は四捨五入とし、0.5については偶数寄せでかまわない。補完実施後、各項目について欠損が生じていないことも確認すること。"
   ]
  },
  {
   "cell_type": "code",
   "execution_count": null,
   "metadata": {},
   "outputs": [],
   "source": []
  },
  {
   "cell_type": "markdown",
   "metadata": {},
   "source": [
    "---\n",
    "> R-083: 単価（unit_price）と原価（unit_cost）の欠損値について、各商品の小区分（category_small_cd）ごとに算出した中央値で補完した新たなdf_product_4を作成せよ。なお、中央値について1円未満は四捨五入とし、0.5については偶数寄せでかまわない。補完実施後、各項目について欠損が生じていないことも確認すること。"
   ]
  },
  {
   "cell_type": "code",
   "execution_count": null,
   "metadata": {},
   "outputs": [],
   "source": []
  },
  {
   "cell_type": "markdown",
   "metadata": {},
   "source": [
    "---\n",
    "> R-084: 顧客データフレーム（df_customer）の全顧客に対し、全期間の売上金額に占める2019年売上金額の割合を計算せよ。ただし、販売実績のない場合は0として扱うこと。そして計算した割合が0超のものを抽出せよ。 結果は10件表示させれば良い。また、作成したデータにNAやNANが存在しないことを確認せよ。"
   ]
  },
  {
   "cell_type": "code",
   "execution_count": null,
   "metadata": {},
   "outputs": [],
   "source": []
  },
  {
   "cell_type": "markdown",
   "metadata": {},
   "source": [
    "---\n",
    "> R-085: 郵便番号（postal_cd）を用いて経度緯度変換用データフレーム（df_geocode）を紐付け、新たなdf_customer_1を作成せよ。ただし、複数紐づく場合は経度（longitude）、緯度（latitude）それぞれ平均を算出すること。"
   ]
  },
  {
   "cell_type": "code",
   "execution_count": null,
   "metadata": {},
   "outputs": [],
   "source": []
  },
  {
   "cell_type": "markdown",
   "metadata": {},
   "source": [
    "---\n",
    "> R-086: 前設問で作成した緯度経度つき顧客データフレーム（df_customer_1）に対し、申込み店舗コード（application_store_cd）をキーに店舗データフレーム（df_store）と結合せよ。そして申込み店舗の緯度（latitude）・経度情報（longitude)と顧客の緯度・経度を用いて距離（km）を求め、顧客ID（customer_id）、顧客住所（address）、店舗住所（address）とともに表示せよ。計算式は簡易式で良いものとするが、その他精度の高い方式を利用したライブラリを利用してもかまわない。結果は10件表示すれば良い。"
   ]
  },
  {
   "cell_type": "markdown",
   "metadata": {},
   "source": [
    "$$\n",
    "緯度（ラジアン）：\\phi \\\\\n",
    "経度（ラジアン）：\\lambda \\\\\n",
    "距離L = 6371 * arccos(sin \\phi_1 * sin \\phi_2\n",
    "+ cos \\phi_1 * cos \\phi_2 * cos(\\lambda_1 − \\lambda_2))\n",
    "$$"
   ]
  },
  {
   "cell_type": "code",
   "execution_count": null,
   "metadata": {},
   "outputs": [],
   "source": []
  },
  {
   "cell_type": "markdown",
   "metadata": {},
   "source": [
    "---\n",
    "> R-087: 顧客データフレーム（df_customer）では、異なる店舗での申込みなどにより同一顧客が複数登録されている。名前（customer_name）と郵便番号（postal_cd）が同じ顧客は同一顧客とみなし、1顧客1レコードとなるように名寄せした名寄顧客データフレーム（df_customer_u）を作成せよ。ただし、同一顧客に対しては売上金額合計が最も高いものを残すものとし、売上金額合計が同一もしくは売上実績の無い顧客については顧客ID（customer_id）の番号が小さいものを残すこととする。"
   ]
  },
  {
   "cell_type": "code",
   "execution_count": null,
   "metadata": {},
   "outputs": [],
   "source": []
  },
  {
   "cell_type": "markdown",
   "metadata": {},
   "source": [
    "---\n",
    "> R-088: 前設問で作成したデータを元に、顧客データフレームに統合名寄IDを付与したデータフレーム（df_customer_n）を作成せよ。ただし、統合名寄IDは以下の仕様で付与するものとする。\n",
    "> - 重複していない顧客：顧客ID（customer_id）を設定\n",
    "> - 重複している顧客：前設問で抽出したレコードの顧客IDを設定"
   ]
  },
  {
   "cell_type": "code",
   "execution_count": null,
   "metadata": {},
   "outputs": [],
   "source": []
  },
  {
   "cell_type": "markdown",
   "metadata": {},
   "source": [
    "---\n",
    "> R-089: 売上実績のある顧客に対し、予測モデル構築のため学習用データとテスト用データに分割したい。それぞれ8:2の割合でランダムにデータを分割せよ。"
   ]
  },
  {
   "cell_type": "code",
   "execution_count": null,
   "metadata": {},
   "outputs": [],
   "source": []
  },
  {
   "cell_type": "markdown",
   "metadata": {},
   "source": [
    "---\n",
    "> R-090: レシート明細データフレーム（df_receipt）は2017年1月1日〜2019年10月31日までのデータを有している。売上金額（amount）を月次で集計し、学習用に12ヶ月、テスト用に6ヶ月のモデル構築用データを3セット作成せよ。"
   ]
  },
  {
   "cell_type": "code",
   "execution_count": null,
   "metadata": {},
   "outputs": [],
   "source": []
  },
  {
   "cell_type": "markdown",
   "metadata": {},
   "source": [
    "---\n",
    "> R-091: 顧客データフレーム（df_customer）の各顧客に対し、売上実績のある顧客数と売上実績のない顧客数が1:1となるようにアンダーサンプリングで抽出せよ。"
   ]
  },
  {
   "cell_type": "code",
   "execution_count": null,
   "metadata": {},
   "outputs": [],
   "source": []
  },
  {
   "cell_type": "markdown",
   "metadata": {},
   "source": [
    "---\n",
    "> R-092: 顧客データフレーム（df_customer）では、性別に関する情報が非正規化の状態で保持されている。これを第三正規化せよ。"
   ]
  },
  {
   "cell_type": "code",
   "execution_count": null,
   "metadata": {},
   "outputs": [],
   "source": []
  },
  {
   "cell_type": "markdown",
   "metadata": {},
   "source": [
    "---\n",
    "> R-093: 商品データフレーム（df_product）では各カテゴリのコード値だけを保有し、カテゴリ名は保有していない。カテゴリデータフレーム（df_category）と組み合わせて非正規化し、カテゴリ名を保有した新たな商品データフレームを作成せよ。"
   ]
  },
  {
   "cell_type": "code",
   "execution_count": null,
   "metadata": {},
   "outputs": [],
   "source": []
  },
  {
   "cell_type": "markdown",
   "metadata": {},
   "source": [
    "---\n",
    "> R-094: 先に作成したカテゴリ名付き商品データを以下の仕様でファイル出力せよ。なお、出力先のパスはdata配下とする。\n",
    "> - ファイル形式はCSV（カンマ区切り）\n",
    "> - ヘッダ有り\n",
    "> - 文字コードはUTF-8"
   ]
  },
  {
   "cell_type": "code",
   "execution_count": null,
   "metadata": {},
   "outputs": [],
   "source": []
  },
  {
   "cell_type": "markdown",
   "metadata": {},
   "source": [
    "---\n",
    "> R-095: 先に作成したカテゴリ名付き商品データを以下の仕様でファイル出力せよ。なお、出力先のパスはdata配下とする。\n",
    "> - ファイル形式はCSV（カンマ区切り）\n",
    "> - ヘッダ有り\n",
    "> - 文字コードはCP932"
   ]
  },
  {
   "cell_type": "code",
   "execution_count": null,
   "metadata": {},
   "outputs": [],
   "source": []
  },
  {
   "cell_type": "markdown",
   "metadata": {},
   "source": [
    "---\n",
    "> R-096: 先に作成したカテゴリ名付き商品データを以下の仕様でファイル出力せよ。なお、出力先のパスはdata\n",
    "配下とする。\n",
    "> - ファイル形式はCSV（カンマ区切り）\n",
    "> - ヘッダ無し\n",
    "> - 文字コードはUTF-8"
   ]
  },
  {
   "cell_type": "code",
   "execution_count": null,
   "metadata": {},
   "outputs": [],
   "source": []
  },
  {
   "cell_type": "markdown",
   "metadata": {},
   "source": [
    "---\n",
    "> R-097: 先に作成した以下形式のファイルを読み込み、データフレームを作成せよ。また、先頭10件を表示させ、正しくとりまれていることを確認せよ。\n",
    "> - ファイル形式はCSV（カンマ区切り）\n",
    "> - ヘッダ有り\n",
    "> - 文字コードはUTF-8"
   ]
  },
  {
   "cell_type": "code",
   "execution_count": null,
   "metadata": {},
   "outputs": [],
   "source": []
  },
  {
   "cell_type": "markdown",
   "metadata": {},
   "source": [
    "---\n",
    "> R-098: 先に作成した以下形式のファイルを読み込み、データフレームを作成せよ。また、先頭10件を表示させ、正しくとりまれていることを確認せよ。\n",
    "> - ファイル形式はCSV（カンマ区切り）\n",
    "> - ヘッダ無し\n",
    "> - 文字コードはUTF-8"
   ]
  },
  {
   "cell_type": "code",
   "execution_count": null,
   "metadata": {},
   "outputs": [],
   "source": []
  },
  {
   "cell_type": "markdown",
   "metadata": {},
   "source": [
    "---\n",
    "> R-099: 先に作成したカテゴリ名付き商品データを以下の仕様でファイル出力せよ。なお、出力先のパスはdata配下とする。\n",
    "> - ファイル形式はTSV（タブ区切り）\n",
    "> - ヘッダ有り\n",
    "> - 文字コードはUTF-8"
   ]
  },
  {
   "cell_type": "code",
   "execution_count": null,
   "metadata": {},
   "outputs": [],
   "source": []
  },
  {
   "cell_type": "markdown",
   "metadata": {},
   "source": [
    "---\n",
    "> R-100: 先に作成した以下形式のファイルを読み込み、データフレームを作成せよ。また、先頭10件を表示させ、正しくとりまれていることを確認せよ。\n",
    "> - ファイル形式はTSV（タブ区切り）\n",
    "> - ヘッダ有り\n",
    "> - 文字コードはUTF-8"
   ]
  },
  {
   "cell_type": "code",
   "execution_count": null,
   "metadata": {},
   "outputs": [],
   "source": []
  },
  {
   "cell_type": "markdown",
   "metadata": {},
   "source": [
    "# これで１００本終わりです。おつかれさまでした！"
   ]
  }
 ],
 "metadata": {
  "kernelspec": {
   "display_name": "R",
   "language": "R",
   "name": "ir"
  },
  "language_info": {
   "codemirror_mode": "r",
   "file_extension": ".r",
   "mimetype": "text/x-r-source",
   "name": "R",
   "pygments_lexer": "r",
   "version": "4.0.3"
  }
 },
 "nbformat": 4,
 "nbformat_minor": 4
}
